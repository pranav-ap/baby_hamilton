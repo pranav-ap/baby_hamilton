{
 "cells": [
  {
   "cell_type": "code",
   "execution_count": 19,
   "id": "17eaa20a-e14c-4ea9-9ad9-9faf4a60dae2",
   "metadata": {},
   "outputs": [],
   "source": [
    "import matplotlib.pyplot as plt\n",
    "plt.rcParams[\"savefig.bbox\"] = 'tight'\n",
    "\n",
    "import torch\n",
    "from torch import nn\n",
    "import torchvision\n",
    "import torchvision.transforms as T\n",
    "import torchvision.transforms.functional as TF\n",
    "\n",
    "import lightning.pytorch as pl\n",
    "import os"
   ]
  },
  {
   "cell_type": "code",
   "execution_count": 20,
   "id": "e688b6ba-bd51-4173-8ea3-d10898a423a8",
   "metadata": {},
   "outputs": [
    {
     "name": "stderr",
     "output_type": "stream",
     "text": [
      "Global seed set to 42\n"
     ]
    },
    {
     "data": {
      "text/plain": [
       "42"
      ]
     },
     "execution_count": 20,
     "metadata": {},
     "output_type": "execute_result"
    }
   ],
   "source": [
    "# sets seeds for numpy, torch and python.random.\n",
    "pl.seed_everything(42, workers=True)"
   ]
  },
  {
   "cell_type": "code",
   "execution_count": 21,
   "id": "59b70363-2008-4d4d-8222-ee467c808398",
   "metadata": {},
   "outputs": [],
   "source": [
    "torch.set_float32_matmul_precision('medium')"
   ]
  },
  {
   "cell_type": "markdown",
   "id": "3fe21e19-16de-4442-a21a-14941673d639",
   "metadata": {},
   "source": [
    "# Transforms"
   ]
  },
  {
   "cell_type": "code",
   "execution_count": 22,
   "id": "e6cfd5e7-fa65-4df7-9127-5de681fd18f2",
   "metadata": {},
   "outputs": [],
   "source": [
    "train_transform = T.Compose([\n",
    "    T.Resize((132, 132)),\n",
    "    T.RandomCrop((128, 128)),\n",
    "    T.RandomAdjustSharpness(sharpness_factor=4, p=0.7),\n",
    "    T.RandomAutocontrast(p=0.7),\n",
    "    T.ColorJitter(brightness=0.6, hue=0.3, contrast=0.6, saturation=0.6),\n",
    "    T.GaussianBlur(kernel_size=3),\n",
    "])"
   ]
  },
  {
   "cell_type": "code",
   "execution_count": 23,
   "id": "45ad321c-7bcc-4271-875c-4902571a0a80",
   "metadata": {},
   "outputs": [],
   "source": [
    "test_transform = T.Compose([\n",
    "    T.Resize((128, 128)),\n",
    "])"
   ]
  },
  {
   "cell_type": "markdown",
   "id": "35e0ad0a-859a-4ee7-a2bb-c49e330d61e4",
   "metadata": {},
   "source": [
    "# Data Module"
   ]
  },
  {
   "cell_type": "code",
   "execution_count": 24,
   "id": "6466f99e-5cf7-42e8-816a-0041607277f0",
   "metadata": {},
   "outputs": [],
   "source": [
    "from data_module import TripletDataset, UdacitySimDataModule\n",
    "\n",
    "NUM_WORKERS = os.cpu_count() # <- use all available CPU cores\n",
    "\n",
    "udacity_sim_dm = UdacitySimDataModule(csv_path=\".\\data\\driving_log.csv\",\n",
    "                                      images_dir=\"data\\IMG\",\n",
    "                                      batch_size=32,\n",
    "                                      num_workers=NUM_WORKERS,\n",
    "                                      train_transform=train_transform,\n",
    "                                      test_transform=test_transform)"
   ]
  },
  {
   "cell_type": "markdown",
   "id": "a8965ba0-3768-44e9-82ed-d9d4f61d1126",
   "metadata": {},
   "source": [
    "# PyTorch Model"
   ]
  },
  {
   "cell_type": "code",
   "execution_count": 25,
   "id": "3643c26d-4b08-4e2c-9e1f-8e4892913e02",
   "metadata": {},
   "outputs": [],
   "source": [
    "from model import BabyHamiltonModel\n",
    "model = BabyHamiltonModel()"
   ]
  },
  {
   "cell_type": "markdown",
   "id": "11f97d6c-0a34-477c-92f9-8ccaf3002897",
   "metadata": {},
   "source": [
    "# Lightning Model"
   ]
  },
  {
   "cell_type": "code",
   "execution_count": 26,
   "id": "94b8cc0d-3682-4f38-b34e-61230e3c19f6",
   "metadata": {},
   "outputs": [],
   "source": [
    "from train import LightingBabyHamiltonModel\n",
    "lightning_model = LightingBabyHamiltonModel(model)"
   ]
  },
  {
   "cell_type": "markdown",
   "id": "371a5957",
   "metadata": {},
   "source": [
    "# Logger"
   ]
  },
  {
   "cell_type": "code",
   "execution_count": 27,
   "id": "75a4f64f",
   "metadata": {},
   "outputs": [],
   "source": [
    "from train import get_logger\n",
    "logger = get_logger()\n",
    "\n",
    "# from lightning.pytorch.loggers import TensorBoardLogger\n",
    "# logger = TensorBoardLogger(save_dir=os.getcwd(), version=1, name=\"lightning_logs\")"
   ]
  },
  {
   "cell_type": "markdown",
   "id": "01437c7d-02d5-4d8d-8c85-cca597d2cf95",
   "metadata": {},
   "source": [
    "# Trainer"
   ]
  },
  {
   "cell_type": "code",
   "execution_count": 28,
   "id": "8990bd7d-0f47-470b-8a9a-c0c83be1b5c1",
   "metadata": {},
   "outputs": [
    {
     "name": "stderr",
     "output_type": "stream",
     "text": [
      "GPU available: True (cuda), used: True\n",
      "TPU available: False, using: 0 TPU cores\n",
      "IPU available: False, using: 0 IPUs\n",
      "HPU available: False, using: 0 HPUs\n",
      "Running in `fast_dev_run` mode: will run the requested loop using 1 batch(es). Logging and checkpointing is suppressed.\n"
     ]
    }
   ],
   "source": [
    "trainer = pl.Trainer(\n",
    "    # Permanent\n",
    "    default_root_dir=\"lightning/\",\n",
    "    max_epochs=10,\n",
    "    devices='auto', # 1, 2, ...\n",
    "    accelerator=\"auto\", # gpu, cpu, ...\n",
    "    logger=logger,\n",
    "    check_val_every_n_epoch=1,\n",
    "    \n",
    "    # Temporary\n",
    "    \n",
    "    fast_dev_run=True,\n",
    "    profiler=\"simple\",\n",
    ")"
   ]
  },
  {
   "cell_type": "markdown",
   "id": "e68b62f6-ee3a-4dd3-8c5c-c1551dfedc5a",
   "metadata": {},
   "source": [
    "# Tuner"
   ]
  },
  {
   "cell_type": "code",
   "execution_count": 29,
   "id": "60dcd29c-7efe-4344-9e94-8b7ee6921faf",
   "metadata": {},
   "outputs": [],
   "source": [
    "from lightning.pytorch.tuner import Tuner\n",
    "tuner = Tuner(trainer)"
   ]
  },
  {
   "cell_type": "markdown",
   "id": "6a650adf-6788-42c7-a97c-fe71c8eb95fd",
   "metadata": {},
   "source": [
    "## Learning Rate"
   ]
  },
  {
   "cell_type": "code",
   "execution_count": 32,
   "id": "20fbe116-abbe-48f2-bdae-b57194f1a40d",
   "metadata": {},
   "outputs": [
    {
     "name": "stderr",
     "output_type": "stream",
     "text": [
      "The following callbacks returned in `LightningModule.configure_callbacks` will override existing callbacks passed to Trainer: EarlyStopping, ModelCheckpoint, TQDMProgressBar\n",
      "LOCAL_RANK: 0 - CUDA_VISIBLE_DEVICES: [0]\n",
      "FIT Profiler Report\n",
      "\n",
      "-----------------------------------------------------------------------------------------------------------------------------------------------------------------------------------------------------------------------------------------------------------\n",
      "|  Action                                                                                                                                             \t|  Mean duration (s)\t|  Num calls      \t|  Total time (s) \t|  Percentage %   \t|\n",
      "-----------------------------------------------------------------------------------------------------------------------------------------------------------------------------------------------------------------------------------------------------------\n",
      "|  Total                                                                                                                                              \t|  -              \t|  40             \t|  85.562         \t|  100 %          \t|\n",
      "-----------------------------------------------------------------------------------------------------------------------------------------------------------------------------------------------------------------------------------------------------------\n",
      "|  [Callback]LearningRateFinder.on_fit_start                                                                                                          \t|  1.211          \t|  2              \t|  2.422          \t|  2.8307         \t|\n",
      "|  [LightningDataModule]UdacitySimDataModule.setup                                                                                                    \t|  0.1095         \t|  2              \t|  0.219          \t|  0.25595        \t|\n",
      "|  [LightningModule]LightingBabyHamiltonModel.configure_callbacks                                                                                     \t|  0.0            \t|  2              \t|  0.0            \t|  0.0            \t|\n",
      "|  [LightningDataModule]UdacitySimDataModule.prepare_data                                                                                             \t|  0.0            \t|  2              \t|  0.0            \t|  0.0            \t|\n",
      "|  [LightningModule]LightingBabyHamiltonModel.prepare_data                                                                                            \t|  0.0            \t|  2              \t|  0.0            \t|  0.0            \t|\n",
      "|  [Callback]LearningRateFinder.setup                                                                                                                 \t|  0.0            \t|  2              \t|  0.0            \t|  0.0            \t|\n",
      "|  [Callback]ModelSummary.setup                                                                                                                       \t|  0.0            \t|  2              \t|  0.0            \t|  0.0            \t|\n",
      "|  [Callback]EarlyStopping{'monitor': 'val_acc', 'mode': 'max'}.setup                                                                                 \t|  0.0            \t|  2              \t|  0.0            \t|  0.0            \t|\n",
      "|  [Callback]TQDMProgressBar.setup                                                                                                                    \t|  0.0            \t|  2              \t|  0.0            \t|  0.0            \t|\n",
      "|  [Callback]ModelCheckpoint{'monitor': 'val_acc', 'mode': 'max', 'every_n_train_steps': 0, 'every_n_epochs': 1, 'train_time_interval': None}.setup   \t|  0.0            \t|  2              \t|  0.0            \t|  0.0            \t|\n",
      "|  [LightningModule]LightingBabyHamiltonModel.setup                                                                                                   \t|  0.0            \t|  2              \t|  0.0            \t|  0.0            \t|\n",
      "|  [LightningModule]LightingBabyHamiltonModel.configure_sharded_model                                                                                 \t|  0.0            \t|  2              \t|  0.0            \t|  0.0            \t|\n",
      "|  [LightningModule]LightingBabyHamiltonModel.configure_optimizers                                                                                    \t|  0.0            \t|  2              \t|  0.0            \t|  0.0            \t|\n",
      "|  [LightningDataModule]UdacitySimDataModule.teardown                                                                                                 \t|  0.0            \t|  2              \t|  0.0            \t|  0.0            \t|\n",
      "|  [Callback]LearningRateFinder.teardown                                                                                                              \t|  0.0            \t|  2              \t|  0.0            \t|  0.0            \t|\n",
      "|  [Callback]ModelSummary.teardown                                                                                                                    \t|  0.0            \t|  2              \t|  0.0            \t|  0.0            \t|\n",
      "|  [Callback]EarlyStopping{'monitor': 'val_acc', 'mode': 'max'}.teardown                                                                              \t|  0.0            \t|  2              \t|  0.0            \t|  0.0            \t|\n",
      "|  [Callback]TQDMProgressBar.teardown                                                                                                                 \t|  0.0            \t|  2              \t|  0.0            \t|  0.0            \t|\n",
      "|  [Callback]ModelCheckpoint{'monitor': 'val_acc', 'mode': 'max', 'every_n_train_steps': 0, 'every_n_epochs': 1, 'train_time_interval': None}.teardown\t|  0.0            \t|  2              \t|  0.0            \t|  0.0            \t|\n",
      "|  [LightningModule]LightingBabyHamiltonModel.teardown                                                                                                \t|  0.0            \t|  2              \t|  0.0            \t|  0.0            \t|\n",
      "-----------------------------------------------------------------------------------------------------------------------------------------------------------------------------------------------------------------------------------------------------------\n",
      "\n"
     ]
    }
   ],
   "source": [
    "lr_finder = tuner.lr_find(lightning_model, datamodule=udacity_sim_dm)"
   ]
  },
  {
   "cell_type": "code",
   "execution_count": 31,
   "id": "c10ad51e-d96a-4905-9a8a-6915bd423da2",
   "metadata": {},
   "outputs": [
    {
     "ename": "AttributeError",
     "evalue": "'NoneType' object has no attribute 'plot'",
     "output_type": "error",
     "traceback": [
      "\u001b[1;31m---------------------------------------------------------------------------\u001b[0m",
      "\u001b[1;31mAttributeError\u001b[0m                            Traceback (most recent call last)",
      "Cell \u001b[1;32mIn[31], line 1\u001b[0m\n\u001b[1;32m----> 1\u001b[0m \u001b[43mlr_finder\u001b[49m\u001b[38;5;241;43m.\u001b[39;49m\u001b[43mplot\u001b[49m(suggest\u001b[38;5;241m=\u001b[39m\u001b[38;5;28;01mTrue\u001b[39;00m)\n",
      "\u001b[1;31mAttributeError\u001b[0m: 'NoneType' object has no attribute 'plot'"
     ]
    }
   ],
   "source": [
    "lr_finder.plot(suggest=True)"
   ]
  },
  {
   "cell_type": "code",
   "execution_count": null,
   "id": "fb574893-e947-47b9-9ee0-28a9e4abd3f7",
   "metadata": {},
   "outputs": [],
   "source": [
    "new_lr = lr_finder.suggestion()\n",
    "lightning_model.learning_rate = new_lr\n",
    "new_lr"
   ]
  },
  {
   "cell_type": "markdown",
   "id": "9e96d6f7-be62-4efd-8ec3-a6e026b1cbe9",
   "metadata": {},
   "source": [
    "## Batch Size"
   ]
  },
  {
   "cell_type": "code",
   "execution_count": null,
   "id": "e34904ef-045e-4225-b750-00c23dfcfc64",
   "metadata": {},
   "outputs": [],
   "source": [
    "bs_finder = tuner.scale_batch_size(\n",
    "    lightning_model, \n",
    "    datamodule=udacity_sim_dm\n",
    ")"
   ]
  },
  {
   "cell_type": "code",
   "execution_count": null,
   "id": "5c20dc53-ee87-4c3f-8f57-e298b8bc0a23",
   "metadata": {},
   "outputs": [],
   "source": [
    "bs_finder.plot(suggest=True)"
   ]
  },
  {
   "cell_type": "code",
   "execution_count": null,
   "id": "b61e13e0-6dfb-4165-80e6-c83df30b687f",
   "metadata": {},
   "outputs": [],
   "source": [
    "new_bs = bs_finder.suggestion()\n",
    "udacity_sim_dm.batch_size = new_bs\n",
    "lightning_model.batch_size = new_bs\n",
    "new_bs"
   ]
  },
  {
   "cell_type": "markdown",
   "id": "fd9a3b3e-5da5-4b89-89cd-132d65f12bd9",
   "metadata": {},
   "source": [
    "# Training"
   ]
  },
  {
   "cell_type": "markdown",
   "id": "2d3c7114-2216-4e86-b5ba-46b75effad9b",
   "metadata": {},
   "source": [
    "## Fit"
   ]
  },
  {
   "cell_type": "code",
   "execution_count": null,
   "id": "3a9af602-a645-4eb9-a30e-a0fb5cfc2a02",
   "metadata": {},
   "outputs": [
    {
     "name": "stderr",
     "output_type": "stream",
     "text": [
      "LOCAL_RANK: 0 - CUDA_VISIBLE_DEVICES: [0]\n",
      "C:\\Users\\prana\\miniconda3\\envs\\baby_hamilton\\lib\\site-packages\\lightning\\pytorch\\trainer\\connectors\\data_connector.py:478: PossibleUserWarning: Your `val_dataloader`'s sampler has shuffling enabled, it is strongly recommended that you turn shuffling off for val/test dataloaders.\n",
      "  rank_zero_warn(\n"
     ]
    }
   ],
   "source": [
    "trainer.fit(\n",
    "    lightning_model, \n",
    "    datamodule=udacity_sim_dm\n",
    ")"
   ]
  },
  {
   "cell_type": "markdown",
   "id": "3d399781-5490-45d5-a514-abb9840df91a",
   "metadata": {},
   "source": [
    "## Plot Metrics"
   ]
  },
  {
   "cell_type": "code",
   "execution_count": null,
   "id": "14785166-3245-40a3-95bf-9834b6cbef0c",
   "metadata": {},
   "outputs": [],
   "source": [
    "from utils import plot_csv_logger\n",
    "plot_csv_logger(csv_path=f'{trainer.logger.log_dir}/metrics.csv')"
   ]
  },
  {
   "cell_type": "markdown",
   "id": "68bfd59d-6e48-4c59-adb2-48d53a59b6d1",
   "metadata": {},
   "source": [
    "# Testing"
   ]
  },
  {
   "cell_type": "code",
   "execution_count": null,
   "id": "5330536e-b513-477e-a6f6-b0e48e5588c5",
   "metadata": {},
   "outputs": [],
   "source": [
    "trainer.test(\n",
    "    lightning_model, \n",
    "    datamodule=udacity_sim_dm, \n",
    "    ckpt_path='best'\n",
    ")"
   ]
  },
  {
   "cell_type": "markdown",
   "id": "d42381fe-689c-4328-b301-0c1eda3b2065",
   "metadata": {},
   "source": [
    "# Production"
   ]
  },
  {
   "cell_type": "code",
   "execution_count": null,
   "id": "e62ff587-027b-4d97-8d11-3a2fbadd206b",
   "metadata": {},
   "outputs": [],
   "source": [
    "path = trainer.checkpoint_callback.best_model_path\n",
    "lightning_model = LightningBabyHamiltonModel.load_from_checkpoint(path)"
   ]
  },
  {
   "cell_type": "code",
   "execution_count": null,
   "id": "a7174d13-bfd7-42e2-9c89-0c4d8ea7280b",
   "metadata": {},
   "outputs": [],
   "source": [
    "x = torch.randn(1, 64)\n",
    "\n",
    "with torch.inference_mode():\n",
    "    x = x.unsqueeze(0)\n",
    "    y_hat = lightning_model(x)"
   ]
  },
  {
   "cell_type": "code",
   "execution_count": null,
   "id": "7857e82d-87f5-49b0-b92b-3d9c33b30aca",
   "metadata": {},
   "outputs": [],
   "source": []
  }
 ],
 "metadata": {
  "kernelspec": {
   "display_name": "Python 3 (ipykernel)",
   "language": "python",
   "name": "python3"
  },
  "language_info": {
   "codemirror_mode": {
    "name": "ipython",
    "version": 3
   },
   "file_extension": ".py",
   "mimetype": "text/x-python",
   "name": "python",
   "nbconvert_exporter": "python",
   "pygments_lexer": "ipython3",
   "version": "3.8.16"
  },
  "toc-autonumbering": true
 },
 "nbformat": 4,
 "nbformat_minor": 5
}
