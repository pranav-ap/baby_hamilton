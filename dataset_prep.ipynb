{
 "cells": [
  {
   "cell_type": "code",
   "execution_count": 98,
   "outputs": [],
   "source": [
    "import numpy as np\n",
    "import pandas as pd\n",
    "import matplotlib.pyplot as plt\n",
    "plt.rcParams[\"savefig.bbox\"] = 'tight'\n",
    "\n",
    "import random\n",
    "import os"
   ],
   "metadata": {
    "collapsed": false,
    "pycharm": {
     "name": "#%%\n"
    }
   }
  },
  {
   "cell_type": "code",
   "execution_count": 99,
   "outputs": [],
   "source": [
    "def extract_file_name(path):\n",
    "    return path.split('\\\\')[-1]"
   ],
   "metadata": {
    "collapsed": false,
    "pycharm": {
     "name": "#%%\n"
    }
   }
  },
  {
   "cell_type": "code",
   "execution_count": 100,
   "outputs": [],
   "source": [
    "def read_driving_csv(csv_path:str):\n",
    "    with open(csv_path, 'r') as f:\n",
    "        df = pd.read_csv(\n",
    "            csv_path,\n",
    "            header=None,\n",
    "            names=['center', 'left', 'right', 'steering_angle'],\n",
    "            usecols=[0, 1, 2, 3],\n",
    "            converters={\n",
    "                'center': lambda x: extract_file_name(x),\n",
    "                'left': lambda x: extract_file_name(x),\n",
    "                'right': lambda x: extract_file_name(x)\n",
    "            }\n",
    "        )\n",
    "\n",
    "        return df"
   ],
   "metadata": {
    "collapsed": false,
    "pycharm": {
     "name": "#%%\n"
    }
   }
  },
  {
   "cell_type": "code",
   "execution_count": 101,
   "outputs": [],
   "source": [
    "def all_three_views_exist(paths):\n",
    "    return all([os.path.exists(path) for path in paths])"
   ],
   "metadata": {
    "collapsed": false,
    "pycharm": {
     "name": "#%%\n"
    }
   }
  },
  {
   "cell_type": "code",
   "execution_count": 102,
   "outputs": [
    {
     "name": "stdout",
     "output_type": "stream",
     "text": [
      "-- Checking good 1\n",
      "DF Before:  10405\n",
      "DF After :  10405\n",
      "-- Checking good 2\n",
      "DF Before:  20882\n",
      "DF After :  20882\n"
     ]
    }
   ],
   "source": [
    "data_dir_folders = ['good 1', 'good 2']\n",
    "remove_indexes = []\n",
    "\n",
    "for folder in data_dir_folders:\n",
    "    print('-- Checking {0}'.format(folder))\n",
    "    csv_path = '.\\\\data\\\\{0}\\\\driving_log.csv'.format(folder)\n",
    "\n",
    "    df = read_driving_csv(csv_path)\n",
    "    print('DF Before: ', len(df))\n",
    "\n",
    "    for index, row in df.iterrows():\n",
    "        image_center_path = '.\\\\data\\\\{0}\\\\IMG\\\\{1}'.format(folder, row['center'])\n",
    "        image_left_path = '.\\\\data\\\\{0}\\\\IMG\\\\{1}'.format(folder, row['left'])\n",
    "        image_right_path = '.\\\\data\\\\{0}\\\\IMG\\\\{1}'.format(folder, row['right'])\n",
    "\n",
    "        # if file does not exist\n",
    "        if not all_three_views_exist([image_center_path, image_left_path, image_right_path]):\n",
    "            for path in [image_center_path, image_left_path, image_right_path]:\n",
    "                if os.path.exists(path):\n",
    "                    os.remove(path)\n",
    "\n",
    "            remove_indexes.append(index)\n",
    "\n",
    "    df.drop(labels=df.index[remove_indexes], inplace=True)\n",
    "    print('DF After : ', len(df))\n",
    "    df.to_csv(csv_path, index=False, header=False)"
   ],
   "metadata": {
    "collapsed": false,
    "pycharm": {
     "name": "#%%\n"
    }
   }
  },
  {
   "cell_type": "code",
   "execution_count": 103,
   "outputs": [],
   "source": [
    "# import sys\n",
    "# sys.getsizeof(element['center']) * 3 * len(full_set)"
   ],
   "metadata": {
    "collapsed": false,
    "pycharm": {
     "name": "#%%\n"
    }
   }
  },
  {
   "cell_type": "markdown",
   "source": [
    "# Data Augmentation"
   ],
   "metadata": {
    "collapsed": false,
    "pycharm": {
     "name": "#%% md\n"
    }
   }
  },
  {
   "cell_type": "code",
   "execution_count": 104,
   "outputs": [
    {
     "data": {
      "text/plain": "31287"
     },
     "execution_count": 104,
     "metadata": {},
     "output_type": "execute_result"
    }
   ],
   "source": [
    "full_set = pd.DataFrame()\n",
    "\n",
    "for folder in data_dir_folders:\n",
    "    df = read_driving_csv('.\\\\data\\\\{0}\\\\driving_log.csv'.format(folder))\n",
    "    full_set = pd.concat([full_set, df], ignore_index=True)\n",
    "\n",
    "len(full_set)"
   ],
   "metadata": {
    "collapsed": false,
    "pycharm": {
     "name": "#%%\n"
    }
   }
  },
  {
   "cell_type": "code",
   "execution_count": 105,
   "outputs": [
    {
     "data": {
      "text/plain": "                               center                              left   \n0  center_2019_04_02_19_25_35_023.jpg  left_2019_04_02_19_25_35_023.jpg  \\\n1  center_2019_04_02_19_25_35_092.jpg  left_2019_04_02_19_25_35_092.jpg   \n2  center_2019_04_02_19_25_35_164.jpg  left_2019_04_02_19_25_35_164.jpg   \n3  center_2019_04_02_19_25_35_232.jpg  left_2019_04_02_19_25_35_232.jpg   \n4  center_2019_04_02_19_25_35_303.jpg  left_2019_04_02_19_25_35_303.jpg   \n\n                               right  steering_angle  \n0  right_2019_04_02_19_25_35_023.jpg            0.00  \n1  right_2019_04_02_19_25_35_092.jpg           -0.15  \n2  right_2019_04_02_19_25_35_164.jpg            0.00  \n3  right_2019_04_02_19_25_35_232.jpg            0.00  \n4  right_2019_04_02_19_25_35_303.jpg            0.00  ",
      "text/html": "<div>\n<style scoped>\n    .dataframe tbody tr th:only-of-type {\n        vertical-align: middle;\n    }\n\n    .dataframe tbody tr th {\n        vertical-align: top;\n    }\n\n    .dataframe thead th {\n        text-align: right;\n    }\n</style>\n<table border=\"1\" class=\"dataframe\">\n  <thead>\n    <tr style=\"text-align: right;\">\n      <th></th>\n      <th>center</th>\n      <th>left</th>\n      <th>right</th>\n      <th>steering_angle</th>\n    </tr>\n  </thead>\n  <tbody>\n    <tr>\n      <th>0</th>\n      <td>center_2019_04_02_19_25_35_023.jpg</td>\n      <td>left_2019_04_02_19_25_35_023.jpg</td>\n      <td>right_2019_04_02_19_25_35_023.jpg</td>\n      <td>0.00</td>\n    </tr>\n    <tr>\n      <th>1</th>\n      <td>center_2019_04_02_19_25_35_092.jpg</td>\n      <td>left_2019_04_02_19_25_35_092.jpg</td>\n      <td>right_2019_04_02_19_25_35_092.jpg</td>\n      <td>-0.15</td>\n    </tr>\n    <tr>\n      <th>2</th>\n      <td>center_2019_04_02_19_25_35_164.jpg</td>\n      <td>left_2019_04_02_19_25_35_164.jpg</td>\n      <td>right_2019_04_02_19_25_35_164.jpg</td>\n      <td>0.00</td>\n    </tr>\n    <tr>\n      <th>3</th>\n      <td>center_2019_04_02_19_25_35_232.jpg</td>\n      <td>left_2019_04_02_19_25_35_232.jpg</td>\n      <td>right_2019_04_02_19_25_35_232.jpg</td>\n      <td>0.00</td>\n    </tr>\n    <tr>\n      <th>4</th>\n      <td>center_2019_04_02_19_25_35_303.jpg</td>\n      <td>left_2019_04_02_19_25_35_303.jpg</td>\n      <td>right_2019_04_02_19_25_35_303.jpg</td>\n      <td>0.00</td>\n    </tr>\n  </tbody>\n</table>\n</div>"
     },
     "execution_count": 105,
     "metadata": {},
     "output_type": "execute_result"
    }
   ],
   "source": [
    "full_set.head()"
   ],
   "metadata": {
    "collapsed": false,
    "pycharm": {
     "name": "#%%\n"
    }
   }
  },
  {
   "cell_type": "code",
   "execution_count": 106,
   "outputs": [
    {
     "data": {
      "text/plain": "<Axes: ylabel='Frequency'>"
     },
     "execution_count": 106,
     "metadata": {},
     "output_type": "execute_result"
    },
    {
     "data": {
      "text/plain": "<Figure size 640x480 with 1 Axes>",
      "image/png": "[encoded data removed]"
     },
     "metadata": {},
     "output_type": "display_data"
    }
   ],
   "source": [
    "full_set['steering_angle'].plot.hist(bins=19)"
   ],
   "metadata": {
    "collapsed": false,
    "pycharm": {
     "name": "#%%\n"
    }
   }
  },
  {
   "cell_type": "markdown",
   "source": [
    "# Too Many 0 Steering Rows!"
   ],
   "metadata": {
    "collapsed": false,
    "pycharm": {
     "name": "#%% md\n"
    }
   }
  },
  {
   "cell_type": "code",
   "execution_count": 111,
   "outputs": [],
   "source": [
    "num_bins = 21\n",
    "samples_per_bin = 900"
   ],
   "metadata": {
    "collapsed": false,
    "pycharm": {
     "name": "#%%\n"
    }
   }
  },
  {
   "cell_type": "code",
   "execution_count": 112,
   "outputs": [
    {
     "data": {
      "text/plain": "[<matplotlib.lines.Line2D at 0x24ec640eca0>]"
     },
     "execution_count": 112,
     "metadata": {},
     "output_type": "execute_result"
    },
    {
     "data": {
      "text/plain": "<Figure size 640x480 with 1 Axes>",
      "image/png": "[encoded data removed]"
     },
     "metadata": {},
     "output_type": "display_data"
    }
   ],
   "source": [
    "hist, bins = np.histogram(full_set['steering_angle'], num_bins)\n",
    "center = (bins[:-1]+ bins[1:]) * 0.5\n",
    "plt.bar(center, hist, width=0.05)\n",
    "plt.plot((np.min(full_set['steering_angle']), np.max(full_set['steering_angle'])), (samples_per_bin, samples_per_bin))"
   ],
   "metadata": {
    "collapsed": false,
    "pycharm": {
     "name": "#%%\n"
    }
   }
  },
  {
   "cell_type": "code",
   "execution_count": 113,
   "outputs": [
    {
     "name": "stdout",
     "output_type": "stream",
     "text": [
      "total data: 31287\n",
      "removed: 18450\n",
      "remaining: 12837\n"
     ]
    }
   ],
   "source": [
    "print('total data:', len(full_set))\n",
    "remove_list = []\n",
    "\n",
    "for j in range(num_bins):\n",
    "  list_ = []\n",
    "  for i in range(len(full_set['steering_angle'])):\n",
    "    if bins[j] <= full_set['steering_angle'][i] <= bins[j + 1]:\n",
    "      list_.append(i)\n",
    "\n",
    "  random.shuffle(list_)\n",
    "  list_ = list_[samples_per_bin:]\n",
    "  remove_list.extend(list_)\n",
    "\n",
    "print('removed:', len(remove_list))\n",
    "full_set.drop(full_set.index[remove_list], inplace=True)\n",
    "print('remaining:', len(full_set))"
   ],
   "metadata": {
    "collapsed": false,
    "pycharm": {
     "name": "#%%\n"
    }
   }
  },
  {
   "cell_type": "code",
   "execution_count": 114,
   "outputs": [
    {
     "data": {
      "text/plain": "[<matplotlib.lines.Line2D at 0x24ec7720250>]"
     },
     "execution_count": 114,
     "metadata": {},
     "output_type": "execute_result"
    },
    {
     "data": {
      "text/plain": "<Figure size 640x480 with 1 Axes>",
      "image/png": "[encoded data removed]"
     },
     "metadata": {},
     "output_type": "display_data"
    }
   ],
   "source": [
    "hist, _ = np.histogram(full_set['steering_angle'], num_bins)\n",
    "plt.bar(center, hist, width=0.05)\n",
    "plt.plot((np.min(full_set['steering_angle']), np.max(full_set['steering_angle'])), (samples_per_bin, samples_per_bin))"
   ],
   "metadata": {
    "collapsed": false,
    "pycharm": {
     "name": "#%%\n"
    }
   }
  },
  {
   "cell_type": "code",
   "execution_count": 116,
   "outputs": [
    {
     "data": {
      "text/plain": "Counter({'straight': 4005, 'left': 4745, 'right': 4087})"
     },
     "execution_count": 116,
     "metadata": {},
     "output_type": "execute_result"
    }
   ],
   "source": [
    "from collections import Counter\n",
    "\n",
    "c = Counter()\n",
    "for index, sim_data in full_set.iterrows():\n",
    "    if -0.2 <= sim_data['steering_angle'] <= 0.2:\n",
    "        c['straight'] += 1\n",
    "    elif sim_data['steering_angle'] > 0.2:\n",
    "        c['right'] += 1\n",
    "    else:\n",
    "        c['left'] += 1\n",
    "\n",
    "c"
   ],
   "metadata": {
    "collapsed": false,
    "pycharm": {
     "name": "#%%\n"
    }
   }
  },
  {
   "cell_type": "markdown",
   "source": [
    "# Splitting Dataset"
   ],
   "metadata": {
    "collapsed": false,
    "pycharm": {
     "name": "#%% md\n"
    }
   }
  },
  {
   "cell_type": "code",
   "execution_count": 117,
   "outputs": [],
   "source": [
    "from sklearn.model_selection import train_test_split\n",
    "# 70-20-10 cuts\n",
    "X_train, X_test = train_test_split(full_set, train_size=0.9, shuffle=True)"
   ],
   "metadata": {
    "collapsed": false,
    "pycharm": {
     "name": "#%%\n"
    }
   }
  },
  {
   "cell_type": "code",
   "execution_count": 118,
   "outputs": [
    {
     "data": {
      "text/plain": "<Axes: ylabel='Frequency'>"
     },
     "execution_count": 118,
     "metadata": {},
     "output_type": "execute_result"
    },
    {
     "data": {
      "text/plain": "<Figure size 640x480 with 1 Axes>",
      "image/png": "[encoded data removed]"
     },
     "metadata": {},
     "output_type": "display_data"
    }
   ],
   "source": [
    "X_train['steering_angle'].plot.hist(bins=21)"
   ],
   "metadata": {
    "collapsed": false,
    "pycharm": {
     "name": "#%%\n"
    }
   }
  },
  {
   "cell_type": "code",
   "execution_count": 143,
   "outputs": [],
   "source": [
    "X_train.to_csv('.\\\\data\\\\driving_train_log.csv', index=False)\n",
    "X_test.to_csv('.\\\\data\\\\driving_test_log.csv', index=False)"
   ],
   "metadata": {
    "collapsed": false,
    "pycharm": {
     "name": "#%%\n"
    }
   }
  },
  {
   "cell_type": "code",
   "execution_count": null,
   "outputs": [],
   "source": [],
   "metadata": {
    "collapsed": false,
    "pycharm": {
     "name": "#%%\n"
    }
   }
  }
 ],
 "metadata": {
  "kernelspec": {
   "display_name": "Python 3",
   "language": "python",
   "name": "python3"
  },
  "language_info": {
   "codemirror_mode": {
    "name": "ipython",
    "version": 2
   },
   "file_extension": ".py",
   "mimetype": "text/x-python",
   "name": "python",
   "nbconvert_exporter": "python",
   "pygments_lexer": "ipython2",
   "version": "2.7.6"
  }
 },
 "nbformat": 4,
 "nbformat_minor": 0
}