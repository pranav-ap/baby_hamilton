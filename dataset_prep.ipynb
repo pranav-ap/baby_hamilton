{
 "cells": [
  {
   "cell_type": "code",
   "execution_count": 1,
   "outputs": [
    {
     "name": "stderr",
     "output_type": "stream",
     "text": [
      "\n",
      "KeyboardInterrupt\n",
      "\n"
     ]
    }
   ],
   "source": [
    "import random\n",
    "import numpy as np\n",
    "import pandas as pd\n",
    "import matplotlib.pyplot as plt\n",
    "\n",
    "from utils import extract_file_name, all_paths_exist, read_preprocessed_driving_csv, preprocess"
   ],
   "metadata": {
    "collapsed": false,
    "pycharm": {
     "name": "#%%\n"
    }
   }
  },
  {
   "cell_type": "code",
   "execution_count": null,
   "outputs": [],
   "source": [
    "# from google.colab import drive\n",
    "# drive.mount('/content/gdrive')"
   ],
   "metadata": {
    "collapsed": false,
    "pycharm": {
     "name": "#%%\n"
    }
   }
  },
  {
   "cell_type": "code",
   "execution_count": null,
   "outputs": [],
   "source": [
    "raw_folders = ['good 1', 'track 1 normal', 'track 1 reverse', 'track 2 normal']"
   ],
   "metadata": {
    "collapsed": false,
    "pycharm": {
     "name": "#%%\n"
    }
   }
  },
  {
   "cell_type": "code",
   "execution_count": null,
   "outputs": [],
   "source": [
    "def read_raw_driving_csv(folder: str):\n",
    "    csv_path = '.\\\\data\\\\raw\\\\{0}\\\\driving_log.csv'.format(folder)\n",
    "\n",
    "    with open(csv_path, 'r') as f:\n",
    "        return pd.read_csv(\n",
    "            csv_path,\n",
    "            header=None,\n",
    "            names=['center', 'left', 'right', 'steering_angle'],\n",
    "            usecols=[0, 1, 2, 3],\n",
    "            converters={\n",
    "                'center': lambda x: extract_file_name(x),\n",
    "                'left': lambda x: extract_file_name(x),\n",
    "                'right': lambda x: extract_file_name(x)\n",
    "            }\n",
    "        )\n"
   ],
   "metadata": {
    "collapsed": false,
    "pycharm": {
     "name": "#%%\n"
    }
   }
  },
  {
   "cell_type": "code",
   "execution_count": null,
   "outputs": [],
   "source": [
    "def remove_non_triple_images(raw_folders):\n",
    "    for folder in raw_folders:\n",
    "        remove_indexes = []\n",
    "        print('-- Checking {0}'.format(folder))\n",
    "\n",
    "        df = read_raw_driving_csv(folder)\n",
    "        print('DF Before: ', len(df))\n",
    "\n",
    "        for index, row in df.iterrows():\n",
    "            center = '.\\\\data\\\\raw\\\\{0}\\\\IMG\\\\{1}'.format(folder, row['center'])\n",
    "            left = '.\\\\data\\\\raw\\\\{0}\\\\IMG\\\\{1}'.format(folder, row['left'])\n",
    "            right = '.\\\\data\\\\raw\\\\{0}\\\\IMG\\\\{1}'.format(folder, row['right'])\n",
    "\n",
    "            # if an image does not exist, remove all images from the same row\n",
    "            if not all_paths_exist([center, left, right]):\n",
    "                for path in [center, left, right]:\n",
    "                    if os.path.exists(path):\n",
    "                        os.remove(path)\n",
    "\n",
    "                remove_indexes.append(index)\n",
    "\n",
    "        df.drop(index=df.index[remove_indexes], inplace=True)\n",
    "        print('DF After : ', len(df))\n",
    "\n",
    "        csv_path = '.\\\\data\\\\raw\\\\{0}\\\\driving_log.csv'.format(folder)\n",
    "        df.to_csv(csv_path, index=False, header=False)"
   ],
   "metadata": {
    "collapsed": false,
    "pycharm": {
     "name": "#%%\n"
    }
   }
  },
  {
   "cell_type": "code",
   "execution_count": null,
   "outputs": [],
   "source": [
    "remove_non_triple_images(raw_folders)"
   ],
   "metadata": {
    "collapsed": false,
    "pycharm": {
     "name": "#%%\n"
    }
   }
  },
  {
   "cell_type": "markdown",
   "source": [
    "# Load and Visualize Dataset"
   ],
   "metadata": {
    "collapsed": false,
    "pycharm": {
     "name": "#%% md\n"
    }
   }
  },
  {
   "cell_type": "code",
   "execution_count": null,
   "outputs": [],
   "source": [
    "full_set = pd.DataFrame()\n",
    "\n",
    "for folder in raw_folders:\n",
    "    df = read_raw_driving_csv(folder)\n",
    "    df['folder'] = folder\n",
    "    full_set = pd.concat([full_set, df], ignore_index=True)"
   ],
   "metadata": {
    "collapsed": false,
    "pycharm": {
     "name": "#%%\n"
    }
   }
  },
  {
   "cell_type": "code",
   "execution_count": null,
   "outputs": [],
   "source": [
    "full_set.dtypes"
   ],
   "metadata": {
    "collapsed": false,
    "pycharm": {
     "name": "#%%\n"
    }
   }
  },
  {
   "cell_type": "code",
   "execution_count": null,
   "outputs": [],
   "source": [
    "full_set.head()"
   ],
   "metadata": {
    "collapsed": false,
    "pycharm": {
     "name": "#%%\n"
    }
   }
  },
  {
   "cell_type": "code",
   "execution_count": null,
   "outputs": [],
   "source": [
    "full_set.iloc[1]"
   ],
   "metadata": {
    "collapsed": false,
    "pycharm": {
     "name": "#%%\n"
    }
   }
  },
  {
   "cell_type": "code",
   "execution_count": 130,
   "outputs": [
    {
     "data": {
      "text/plain": "'good 1'"
     },
     "execution_count": 130,
     "metadata": {},
     "output_type": "execute_result"
    }
   ],
   "source": [
    "full_set.iloc[1]['folder']"
   ],
   "metadata": {
    "collapsed": false,
    "pycharm": {
     "name": "#%%\n"
    }
   }
  },
  {
   "cell_type": "code",
   "execution_count": 131,
   "outputs": [
    {
     "data": {
      "text/plain": "-0.15"
     },
     "execution_count": 131,
     "metadata": {},
     "output_type": "execute_result"
    }
   ],
   "source": [
    "full_set['steering_angle'][1]"
   ],
   "metadata": {
    "collapsed": false,
    "pycharm": {
     "name": "#%%\n"
    }
   }
  },
  {
   "cell_type": "markdown",
   "source": [
    "# Balance the Dataset"
   ],
   "metadata": {
    "collapsed": false,
    "pycharm": {
     "name": "#%% md\n"
    }
   }
  },
  {
   "cell_type": "code",
   "execution_count": 132,
   "outputs": [],
   "source": [
    "num_bins = 21\n",
    "samples_per_bin = 920"
   ],
   "metadata": {
    "collapsed": false,
    "pycharm": {
     "name": "#%%\n"
    }
   }
  },
  {
   "cell_type": "code",
   "execution_count": 133,
   "outputs": [],
   "source": [
    "def show_steering_angles(full_set, hist, bins, samples_per_bin):\n",
    "    center = (bins[:-1] + bins[1:]) * 0.5\n",
    "    plt.bar(center, hist, width=0.05)\n",
    "    plt.plot(\n",
    "        (np.min(full_set['steering_angle']), np.max(full_set['steering_angle'])),\n",
    "        (samples_per_bin, samples_per_bin)\n",
    "    )"
   ],
   "metadata": {
    "collapsed": false,
    "pycharm": {
     "name": "#%%\n"
    }
   }
  },
  {
   "cell_type": "code",
   "execution_count": 134,
   "outputs": [
    {
     "data": {
      "text/plain": "<Figure size 640x480 with 1 Axes>",
      "image/png": "[encoded data removed]"
     },
     "metadata": {},
     "output_type": "display_data"
    }
   ],
   "source": [
    "hist, bins = np.histogram(full_set['steering_angle'], num_bins)\n",
    "show_steering_angles(full_set, hist, bins, samples_per_bin)"
   ],
   "metadata": {
    "collapsed": false,
    "pycharm": {
     "name": "#%%\n"
    }
   }
  },
  {
   "cell_type": "code",
   "execution_count": 135,
   "outputs": [
    {
     "name": "stdout",
     "output_type": "stream",
     "text": [
      "total data: 17007\n",
      "removed: 11586\n",
      "remaining: 5421\n"
     ]
    }
   ],
   "source": [
    "print('total data:', len(full_set))\n",
    "remove_list = []\n",
    "\n",
    "for j in range(num_bins):\n",
    "  list_ = []\n",
    "  for i in range(len(full_set['steering_angle'])):\n",
    "    if bins[j] <= full_set['steering_angle'][i] <= bins[j + 1]:\n",
    "      list_.append(i)\n",
    "\n",
    "  random.shuffle(list_)\n",
    "  list_ = list_[samples_per_bin:]\n",
    "  remove_list.extend(list_)\n",
    "\n",
    "print('removed:', len(remove_list))\n",
    "full_set.drop(full_set.index[remove_list], inplace=True)\n",
    "print('remaining:', len(full_set))"
   ],
   "metadata": {
    "collapsed": false,
    "pycharm": {
     "name": "#%%\n"
    }
   }
  },
  {
   "cell_type": "code",
   "execution_count": 136,
   "outputs": [
    {
     "data": {
      "text/plain": "<Figure size 640x480 with 1 Axes>",
      "image/png": "[encoded data removed]"
     },
     "metadata": {},
     "output_type": "display_data"
    }
   ],
   "source": [
    "hist, bins = np.histogram(full_set['steering_angle'], num_bins)\n",
    "show_steering_angles(full_set, hist, bins, samples_per_bin)"
   ],
   "metadata": {
    "collapsed": false,
    "pycharm": {
     "name": "#%%\n"
    }
   }
  },
  {
   "cell_type": "markdown",
   "source": [
    "# Split the CSV"
   ],
   "metadata": {
    "collapsed": false,
    "pycharm": {
     "name": "#%% md\n"
    }
   }
  },
  {
   "cell_type": "code",
   "execution_count": 137,
   "outputs": [],
   "source": [
    "from sklearn.model_selection import train_test_split\n",
    "X_train, X_test = train_test_split(full_set, train_size=0.9, shuffle=True)"
   ],
   "metadata": {
    "collapsed": false,
    "pycharm": {
     "name": "#%%\n"
    }
   }
  },
  {
   "cell_type": "code",
   "execution_count": 138,
   "outputs": [
    {
     "data": {
      "text/plain": "(5421, 4878, 543)"
     },
     "execution_count": 138,
     "metadata": {},
     "output_type": "execute_result"
    }
   ],
   "source": [
    "len(full_set), len(X_train), len(X_test)"
   ],
   "metadata": {
    "collapsed": false,
    "pycharm": {
     "name": "#%%\n"
    }
   }
  },
  {
   "cell_type": "code",
   "execution_count": 139,
   "outputs": [
    {
     "data": {
      "text/plain": "<Figure size 640x480 with 1 Axes>",
      "image/png": "[encoded data removed]"
     },
     "metadata": {},
     "output_type": "display_data"
    }
   ],
   "source": [
    "show_steering_angles(X_train, hist, bins, samples_per_bin)"
   ],
   "metadata": {
    "collapsed": false,
    "pycharm": {
     "name": "#%%\n"
    }
   }
  },
  {
   "cell_type": "code",
   "execution_count": 140,
   "outputs": [
    {
     "data": {
      "text/plain": "<Figure size 640x480 with 1 Axes>",
      "image/png": "[encoded data removed]"
     },
     "metadata": {},
     "output_type": "display_data"
    }
   ],
   "source": [
    "show_steering_angles(X_test, hist, bins, samples_per_bin)"
   ],
   "metadata": {
    "collapsed": false,
    "pycharm": {
     "name": "#%%\n"
    }
   }
  },
  {
   "cell_type": "code",
   "execution_count": 141,
   "outputs": [
    {
     "data": {
      "text/plain": "                                   center                              left   \n13719  center_2023_04_28_21_08_44_295.jpg  left_2023_04_28_21_08_44_295.jpg  \\\n15093  center_2023_04_28_21_11_07_631.jpg  left_2023_04_28_21_11_07_631.jpg   \n14763  center_2023_04_28_21_10_34_157.jpg  left_2023_04_28_21_10_34_157.jpg   \n3729   center_2019_04_02_19_30_02_017.jpg  left_2019_04_02_19_30_02_017.jpg   \n16733  center_2023_04_28_21_25_41_473.jpg  left_2023_04_28_21_25_41_473.jpg   \n\n                                   right  steering_angle           folder  \n13719  right_2023_04_28_21_08_44_295.jpg        0.055932  track 1 reverse  \n15093  right_2023_04_28_21_11_07_631.jpg        0.111866  track 1 reverse  \n14763  right_2023_04_28_21_10_34_157.jpg        0.475576  track 1 reverse  \n3729   right_2019_04_02_19_30_02_017.jpg       -0.100000           good 1  \n16733  right_2023_04_28_21_25_41_473.jpg       -0.327467   track 2 normal  ",
      "text/html": "<div>\n<style scoped>\n    .dataframe tbody tr th:only-of-type {\n        vertical-align: middle;\n    }\n\n    .dataframe tbody tr th {\n        vertical-align: top;\n    }\n\n    .dataframe thead th {\n        text-align: right;\n    }\n</style>\n<table border=\"1\" class=\"dataframe\">\n  <thead>\n    <tr style=\"text-align: right;\">\n      <th></th>\n      <th>center</th>\n      <th>left</th>\n      <th>right</th>\n      <th>steering_angle</th>\n      <th>folder</th>\n    </tr>\n  </thead>\n  <tbody>\n    <tr>\n      <th>13719</th>\n      <td>center_2023_04_28_21_08_44_295.jpg</td>\n      <td>left_2023_04_28_21_08_44_295.jpg</td>\n      <td>right_2023_04_28_21_08_44_295.jpg</td>\n      <td>0.055932</td>\n      <td>track 1 reverse</td>\n    </tr>\n    <tr>\n      <th>15093</th>\n      <td>center_2023_04_28_21_11_07_631.jpg</td>\n      <td>left_2023_04_28_21_11_07_631.jpg</td>\n      <td>right_2023_04_28_21_11_07_631.jpg</td>\n      <td>0.111866</td>\n      <td>track 1 reverse</td>\n    </tr>\n    <tr>\n      <th>14763</th>\n      <td>center_2023_04_28_21_10_34_157.jpg</td>\n      <td>left_2023_04_28_21_10_34_157.jpg</td>\n      <td>right_2023_04_28_21_10_34_157.jpg</td>\n      <td>0.475576</td>\n      <td>track 1 reverse</td>\n    </tr>\n    <tr>\n      <th>3729</th>\n      <td>center_2019_04_02_19_30_02_017.jpg</td>\n      <td>left_2019_04_02_19_30_02_017.jpg</td>\n      <td>right_2019_04_02_19_30_02_017.jpg</td>\n      <td>-0.100000</td>\n      <td>good 1</td>\n    </tr>\n    <tr>\n      <th>16733</th>\n      <td>center_2023_04_28_21_25_41_473.jpg</td>\n      <td>left_2023_04_28_21_25_41_473.jpg</td>\n      <td>right_2023_04_28_21_25_41_473.jpg</td>\n      <td>-0.327467</td>\n      <td>track 2 normal</td>\n    </tr>\n  </tbody>\n</table>\n</div>"
     },
     "execution_count": 141,
     "metadata": {},
     "output_type": "execute_result"
    }
   ],
   "source": [
    "X_train.head()"
   ],
   "metadata": {
    "collapsed": false,
    "pycharm": {
     "name": "#%%\n"
    }
   }
  },
  {
   "cell_type": "markdown",
   "source": [
    "# Preprocess Images"
   ],
   "metadata": {
    "collapsed": false,
    "pycharm": {
     "name": "#%% md\n"
    }
   }
  },
  {
   "cell_type": "code",
   "execution_count": 142,
   "outputs": [],
   "source": [
    "import os, shutil\n",
    "\n",
    "def clear_folder(folder):\n",
    "    for files in os.listdir(folder):\n",
    "        path = os.path.join(folder, files)\n",
    "        try:\n",
    "            shutil.rmtree(path)\n",
    "        except OSError:\n",
    "            os.remove(path)\n"
   ],
   "metadata": {
    "collapsed": false,
    "pycharm": {
     "name": "#%%\n"
    }
   }
  },
  {
   "cell_type": "code",
   "execution_count": 143,
   "outputs": [
    {
     "data": {
      "text/plain": "14850"
     },
     "execution_count": 143,
     "metadata": {},
     "output_type": "execute_result"
    }
   ],
   "source": [
    "count = 0\n",
    "for files in os.listdir('.\\\\data\\\\preprocessed\\\\train'):\n",
    "    count += 1\n",
    "\n",
    "count"
   ],
   "metadata": {
    "collapsed": false,
    "pycharm": {
     "name": "#%%\n"
    }
   }
  },
  {
   "cell_type": "code",
   "execution_count": 144,
   "outputs": [],
   "source": [
    "from torchvision.io import read_image\n",
    "from PIL import Image\n",
    "\n",
    "PREPROCESSED_FOLDER = '.\\\\data\\\\preprocessed\\\\'\n",
    "\n",
    "def preprocess_and_store_images(df, stage='train'):\n",
    "    clear_folder(PREPROCESSED_FOLDER + stage)\n",
    "    # os.mkdir(PREPROCESSED_FOLDER + stage)\n",
    "\n",
    "    for index, row in df.iterrows():\n",
    "        folder = row['folder']\n",
    "\n",
    "        for image_name in ['center', 'left', 'right']:\n",
    "            image_name = row[image_name]\n",
    "            raw_path = '.\\\\data\\\\raw\\\\' + folder + '\\\\IMG\\\\' + image_name\n",
    "\n",
    "            if not os.path.exists(raw_path):\n",
    "                continue\n",
    "\n",
    "            image = read_image(raw_path)\n",
    "            # print('Original Shape : ', image.shape)\n",
    "            image = preprocess(image)\n",
    "            # print('New Shape : ', image.shape)\n",
    "            # print(image[0, 0, :10])\n",
    "\n",
    "            path = '{}\\\\{}\\\\{}'.format(PREPROCESSED_FOLDER, stage, image_name)\n",
    "            Image.fromarray(image.numpy().transpose(1, 2, 0)).save(path)"
   ],
   "metadata": {
    "collapsed": false,
    "pycharm": {
     "name": "#%%\n"
    }
   }
  },
  {
   "cell_type": "code",
   "execution_count": 145,
   "outputs": [],
   "source": [
    "preprocess_and_store_images(X_train, 'train')\n",
    "preprocess_and_store_images(X_test, 'test')"
   ],
   "metadata": {
    "collapsed": false,
    "pycharm": {
     "name": "#%%\n"
    }
   }
  },
  {
   "cell_type": "markdown",
   "source": [
    "# Check is All Images Exist"
   ],
   "metadata": {
    "collapsed": false,
    "pycharm": {
     "name": "#%% md\n"
    }
   }
  },
  {
   "cell_type": "code",
   "execution_count": 146,
   "outputs": [],
   "source": [
    "def check_all_images_exist(df):\n",
    "    count = 0\n",
    "\n",
    "    for index, row in df.iterrows():\n",
    "        folder = row['folder']\n",
    "\n",
    "        for image_name in ['center', 'left', 'right']:\n",
    "            image_name = row[image_name]\n",
    "            raw_path = '.\\\\data\\\\raw\\\\' + folder + '\\\\IMG\\\\' + image_name\n",
    "\n",
    "            if not os.path.exists(raw_path):\n",
    "                count += 1\n",
    "                print(raw_path)\n",
    "\n",
    "    return count"
   ],
   "metadata": {
    "collapsed": false,
    "pycharm": {
     "name": "#%%\n"
    }
   }
  },
  {
   "cell_type": "code",
   "execution_count": 147,
   "outputs": [
    {
     "name": "stdout",
     "output_type": "stream",
     "text": [
      "0\n",
      "0\n"
     ]
    }
   ],
   "source": [
    "count = check_all_images_exist(X_train)\n",
    "print(count)\n",
    "\n",
    "count = check_all_images_exist(X_test)\n",
    "print(count)"
   ],
   "metadata": {
    "collapsed": false,
    "pycharm": {
     "name": "#%%\n"
    }
   }
  },
  {
   "cell_type": "markdown",
   "source": [
    "# Save CSV"
   ],
   "metadata": {
    "collapsed": false,
    "pycharm": {
     "name": "#%% md\n"
    }
   }
  },
  {
   "cell_type": "code",
   "execution_count": 148,
   "outputs": [],
   "source": [
    "X_train.to_csv(\n",
    "    '.\\\\data\\\\preprocessed\\\\driving_train_log.csv',\n",
    "    index=False,\n",
    "    columns=['center', 'left', 'right', 'steering_angle']\n",
    ")\n",
    "\n",
    "X_test.to_csv(\n",
    "    '.\\\\data\\\\preprocessed\\\\driving_test_log.csv',\n",
    "    index=False,\n",
    "    columns=['center', 'left', 'right', 'steering_angle']\n",
    ")"
   ],
   "metadata": {
    "collapsed": false,
    "pycharm": {
     "name": "#%%\n"
    }
   }
  }
 ],
 "metadata": {
  "kernelspec": {
   "display_name": "Python 3",
   "language": "python",
   "name": "python3"
  },
  "language_info": {
   "codemirror_mode": {
    "name": "ipython",
    "version": 2
   },
   "file_extension": ".py",
   "mimetype": "text/x-python",
   "name": "python",
   "nbconvert_exporter": "python",
   "pygments_lexer": "ipython2",
   "version": "2.7.6"
  }
 },
 "nbformat": 4,
 "nbformat_minor": 0
}