{
 "cells": [
  {
   "cell_type": "code",
   "execution_count": 82,
   "outputs": [],
   "source": [
    "import random\n",
    "import numpy as np\n",
    "import pandas as pd\n",
    "import matplotlib.pyplot as plt\n",
    "\n",
    "plt.rcParams[\"savefig.bbox\"] = 'tight'"
   ],
   "metadata": {
    "collapsed": false,
    "pycharm": {
     "name": "#%%\n"
    }
   }
  },
  {
   "cell_type": "code",
   "execution_count": null,
   "outputs": [],
   "source": [
    "# from google.colab import drive\n",
    "# drive.mount('/content/gdrive')"
   ],
   "metadata": {
    "collapsed": false,
    "pycharm": {
     "name": "#%%\n"
    }
   }
  },
  {
   "cell_type": "code",
   "execution_count": 83,
   "outputs": [],
   "source": [
    "raw_folders = ['good 1', 'good 2', 'track 1 normal', 'track 1 reverse', 'track 2 normal']"
   ],
   "metadata": {
    "collapsed": false,
    "pycharm": {
     "name": "#%%\n"
    }
   }
  },
  {
   "cell_type": "code",
   "execution_count": 84,
   "outputs": [],
   "source": [
    "from utils import extract_file_name\n",
    "\n",
    "def read_raw_driving_csv(folder: str):\n",
    "    csv_path = '.\\\\data\\\\raw\\\\{0}\\\\driving_log.csv'.format(folder)\n",
    "\n",
    "    with open(csv_path, 'r') as f:\n",
    "        return pd.read_csv(\n",
    "            csv_path,\n",
    "            header=None,\n",
    "            names=['center', 'left', 'right', 'steering_angle'],\n",
    "            usecols=[0, 1, 2, 3],\n",
    "            converters={\n",
    "                'center': lambda x: extract_file_name(x),\n",
    "                'left': lambda x: extract_file_name(x),\n",
    "                'right': lambda x: extract_file_name(x)\n",
    "            }\n",
    "        )\n"
   ],
   "metadata": {
    "collapsed": false,
    "pycharm": {
     "name": "#%%\n"
    }
   }
  },
  {
   "cell_type": "code",
   "execution_count": 85,
   "outputs": [],
   "source": [
    "from utils import all_paths_exist\n",
    "\n",
    "def remove_non_triple_images(raw_folders):\n",
    "    for folder in raw_folders:\n",
    "        remove_indexes = []\n",
    "        print('-- Checking {0}'.format(folder))\n",
    "\n",
    "        df = read_raw_driving_csv(folder)\n",
    "        print('DF Before: ', len(df))\n",
    "\n",
    "        for index, row in df.iterrows():\n",
    "            image_center_path = '.\\\\data\\\\raw\\\\{0}\\\\IMG\\\\{1}'.format(folder, row['center'])\n",
    "            image_left_path = '.\\\\data\\\\raw\\\\{0}\\\\IMG\\\\{1}'.format(folder, row['left'])\n",
    "            image_right_path = '.\\\\data\\\\raw\\\\{0}\\\\IMG\\\\{1}'.format(folder, row['right'])\n",
    "\n",
    "            # if an image does not exist, remove all images from the same row\n",
    "            if not all_paths_exist([image_center_path, image_left_path, image_right_path]):\n",
    "                for path in [image_center_path, image_left_path, image_right_path]:\n",
    "                    if os.path.exists(path):\n",
    "                        os.remove(path)\n",
    "\n",
    "                remove_indexes.append(index)\n",
    "\n",
    "        df.drop(labels=df.index[remove_indexes], inplace=True)\n",
    "        print('DF After : ', len(df))\n",
    "\n",
    "        csv_path = '.\\\\data\\\\raw\\\\{0}\\\\driving_log.csv'.format(folder)\n",
    "        df.to_csv(csv_path, index=False, header=False)"
   ],
   "metadata": {
    "collapsed": false,
    "pycharm": {
     "name": "#%%\n"
    }
   }
  },
  {
   "cell_type": "code",
   "execution_count": 86,
   "outputs": [
    {
     "name": "stdout",
     "output_type": "stream",
     "text": [
      "-- Checking good 1\n",
      "DF Before:  10405\n",
      "DF After :  10405\n",
      "-- Checking good 2\n",
      "DF Before:  20882\n",
      "DF After :  20882\n",
      "-- Checking track 1 normal\n",
      "DF Before:  2194\n",
      "DF After :  2194\n",
      "-- Checking track 1 reverse\n",
      "DF Before:  2934\n",
      "DF After :  2934\n",
      "-- Checking track 2 normal\n",
      "DF Before:  1474\n",
      "DF After :  1474\n"
     ]
    }
   ],
   "source": [
    "remove_non_triple_images(raw_folders)"
   ],
   "metadata": {
    "collapsed": false,
    "pycharm": {
     "name": "#%%\n"
    }
   }
  },
  {
   "cell_type": "markdown",
   "source": [
    "# Load and Visualize Dataset"
   ],
   "metadata": {
    "collapsed": false,
    "pycharm": {
     "name": "#%% md\n"
    }
   }
  },
  {
   "cell_type": "code",
   "execution_count": 87,
   "outputs": [],
   "source": [
    "full_set = pd.DataFrame()\n",
    "\n",
    "for folder in raw_folders:\n",
    "    df = read_raw_driving_csv(folder)\n",
    "    df['folder'] = folder\n",
    "    full_set = pd.concat([full_set, df], ignore_index=True)"
   ],
   "metadata": {
    "collapsed": false,
    "pycharm": {
     "name": "#%%\n"
    }
   }
  },
  {
   "cell_type": "code",
   "execution_count": 88,
   "outputs": [
    {
     "data": {
      "text/plain": "center             object\nleft               object\nright              object\nsteering_angle    float64\nfolder             object\ndtype: object"
     },
     "execution_count": 88,
     "metadata": {},
     "output_type": "execute_result"
    }
   ],
   "source": [
    "full_set.dtypes"
   ],
   "metadata": {
    "collapsed": false,
    "pycharm": {
     "name": "#%%\n"
    }
   }
  },
  {
   "cell_type": "code",
   "execution_count": 89,
   "outputs": [
    {
     "data": {
      "text/plain": "                               center                              left   \n0  center_2019_04_02_19_25_35_023.jpg  left_2019_04_02_19_25_35_023.jpg  \\\n1  center_2019_04_02_19_25_35_092.jpg  left_2019_04_02_19_25_35_092.jpg   \n2  center_2019_04_02_19_25_35_164.jpg  left_2019_04_02_19_25_35_164.jpg   \n3  center_2019_04_02_19_25_35_232.jpg  left_2019_04_02_19_25_35_232.jpg   \n4  center_2019_04_02_19_25_35_303.jpg  left_2019_04_02_19_25_35_303.jpg   \n\n                               right  steering_angle  folder  \n0  right_2019_04_02_19_25_35_023.jpg            0.00  good 1  \n1  right_2019_04_02_19_25_35_092.jpg           -0.15  good 1  \n2  right_2019_04_02_19_25_35_164.jpg            0.00  good 1  \n3  right_2019_04_02_19_25_35_232.jpg            0.00  good 1  \n4  right_2019_04_02_19_25_35_303.jpg            0.00  good 1  ",
      "text/html": "<div>\n<style scoped>\n    .dataframe tbody tr th:only-of-type {\n        vertical-align: middle;\n    }\n\n    .dataframe tbody tr th {\n        vertical-align: top;\n    }\n\n    .dataframe thead th {\n        text-align: right;\n    }\n</style>\n<table border=\"1\" class=\"dataframe\">\n  <thead>\n    <tr style=\"text-align: right;\">\n      <th></th>\n      <th>center</th>\n      <th>left</th>\n      <th>right</th>\n      <th>steering_angle</th>\n      <th>folder</th>\n    </tr>\n  </thead>\n  <tbody>\n    <tr>\n      <th>0</th>\n      <td>center_2019_04_02_19_25_35_023.jpg</td>\n      <td>left_2019_04_02_19_25_35_023.jpg</td>\n      <td>right_2019_04_02_19_25_35_023.jpg</td>\n      <td>0.00</td>\n      <td>good 1</td>\n    </tr>\n    <tr>\n      <th>1</th>\n      <td>center_2019_04_02_19_25_35_092.jpg</td>\n      <td>left_2019_04_02_19_25_35_092.jpg</td>\n      <td>right_2019_04_02_19_25_35_092.jpg</td>\n      <td>-0.15</td>\n      <td>good 1</td>\n    </tr>\n    <tr>\n      <th>2</th>\n      <td>center_2019_04_02_19_25_35_164.jpg</td>\n      <td>left_2019_04_02_19_25_35_164.jpg</td>\n      <td>right_2019_04_02_19_25_35_164.jpg</td>\n      <td>0.00</td>\n      <td>good 1</td>\n    </tr>\n    <tr>\n      <th>3</th>\n      <td>center_2019_04_02_19_25_35_232.jpg</td>\n      <td>left_2019_04_02_19_25_35_232.jpg</td>\n      <td>right_2019_04_02_19_25_35_232.jpg</td>\n      <td>0.00</td>\n      <td>good 1</td>\n    </tr>\n    <tr>\n      <th>4</th>\n      <td>center_2019_04_02_19_25_35_303.jpg</td>\n      <td>left_2019_04_02_19_25_35_303.jpg</td>\n      <td>right_2019_04_02_19_25_35_303.jpg</td>\n      <td>0.00</td>\n      <td>good 1</td>\n    </tr>\n  </tbody>\n</table>\n</div>"
     },
     "execution_count": 89,
     "metadata": {},
     "output_type": "execute_result"
    }
   ],
   "source": [
    "full_set.head()"
   ],
   "metadata": {
    "collapsed": false,
    "pycharm": {
     "name": "#%%\n"
    }
   }
  },
  {
   "cell_type": "code",
   "execution_count": 90,
   "outputs": [
    {
     "data": {
      "text/plain": "center            center_2019_04_02_19_25_35_092.jpg\nleft                left_2019_04_02_19_25_35_092.jpg\nright              right_2019_04_02_19_25_35_092.jpg\nsteering_angle                                 -0.15\nfolder                                        good 1\nName: 1, dtype: object"
     },
     "execution_count": 90,
     "metadata": {},
     "output_type": "execute_result"
    }
   ],
   "source": [
    "full_set.iloc[1]"
   ],
   "metadata": {
    "collapsed": false,
    "pycharm": {
     "name": "#%%\n"
    }
   }
  },
  {
   "cell_type": "code",
   "execution_count": 91,
   "outputs": [
    {
     "data": {
      "text/plain": "'good 1'"
     },
     "execution_count": 91,
     "metadata": {},
     "output_type": "execute_result"
    }
   ],
   "source": [
    "full_set.iloc[1]['folder']"
   ],
   "metadata": {
    "collapsed": false,
    "pycharm": {
     "name": "#%%\n"
    }
   }
  },
  {
   "cell_type": "code",
   "execution_count": 92,
   "outputs": [
    {
     "data": {
      "text/plain": "-0.15"
     },
     "execution_count": 92,
     "metadata": {},
     "output_type": "execute_result"
    }
   ],
   "source": [
    "full_set['steering_angle'][1]"
   ],
   "metadata": {
    "collapsed": false,
    "pycharm": {
     "name": "#%%\n"
    }
   }
  },
  {
   "cell_type": "markdown",
   "source": [
    "# Balance the Dataset"
   ],
   "metadata": {
    "collapsed": false,
    "pycharm": {
     "name": "#%% md\n"
    }
   }
  },
  {
   "cell_type": "code",
   "execution_count": 93,
   "outputs": [],
   "source": [
    "num_bins = 21\n",
    "samples_per_bin = 1400"
   ],
   "metadata": {
    "collapsed": false,
    "pycharm": {
     "name": "#%%\n"
    }
   }
  },
  {
   "cell_type": "code",
   "execution_count": 94,
   "outputs": [],
   "source": [
    "def show_steering_angles(full_set, hist, bins, samples_per_bin):\n",
    "    center = (bins[:-1] + bins[1:]) * 0.5\n",
    "    plt.bar(center, hist, width=0.05)\n",
    "    plt.plot(\n",
    "        (np.min(full_set['steering_angle']), np.max(full_set['steering_angle'])),\n",
    "        (samples_per_bin, samples_per_bin)\n",
    "    )"
   ],
   "metadata": {
    "collapsed": false,
    "pycharm": {
     "name": "#%%\n"
    }
   }
  },
  {
   "cell_type": "code",
   "execution_count": 95,
   "outputs": [
    {
     "data": {
      "text/plain": "<Figure size 640x480 with 1 Axes>",
      "image/png": "[encoded data removed]"
     },
     "metadata": {},
     "output_type": "display_data"
    }
   ],
   "source": [
    "hist, bins = np.histogram(full_set['steering_angle'], num_bins)\n",
    "show_steering_angles(full_set, hist, bins, samples_per_bin)"
   ],
   "metadata": {
    "collapsed": false,
    "pycharm": {
     "name": "#%%\n"
    }
   }
  },
  {
   "cell_type": "code",
   "execution_count": 96,
   "outputs": [
    {
     "name": "stdout",
     "output_type": "stream",
     "text": [
      "total data: 37889\n",
      "removed: 21257\n",
      "remaining: 16632\n"
     ]
    }
   ],
   "source": [
    "print('total data:', len(full_set))\n",
    "remove_list = []\n",
    "\n",
    "for j in range(num_bins):\n",
    "  list_ = []\n",
    "  for i in range(len(full_set['steering_angle'])):\n",
    "    if bins[j] <= full_set['steering_angle'][i] <= bins[j + 1]:\n",
    "      list_.append(i)\n",
    "\n",
    "  random.shuffle(list_)\n",
    "  list_ = list_[samples_per_bin:]\n",
    "  remove_list.extend(list_)\n",
    "\n",
    "print('removed:', len(remove_list))\n",
    "full_set.drop(full_set.index[remove_list], inplace=True)\n",
    "print('remaining:', len(full_set))"
   ],
   "metadata": {
    "collapsed": false,
    "pycharm": {
     "name": "#%%\n"
    }
   }
  },
  {
   "cell_type": "code",
   "execution_count": 97,
   "outputs": [
    {
     "data": {
      "text/plain": "<Figure size 640x480 with 1 Axes>",
      "image/png": "[encoded data removed]"
     },
     "metadata": {},
     "output_type": "display_data"
    }
   ],
   "source": [
    "hist, bins = np.histogram(full_set['steering_angle'], num_bins)\n",
    "show_steering_angles(full_set, hist, bins, samples_per_bin)"
   ],
   "metadata": {
    "collapsed": false,
    "pycharm": {
     "name": "#%%\n"
    }
   }
  },
  {
   "cell_type": "markdown",
   "source": [
    "# Split the CSV"
   ],
   "metadata": {
    "collapsed": false,
    "pycharm": {
     "name": "#%% md\n"
    }
   }
  },
  {
   "cell_type": "code",
   "execution_count": 57,
   "outputs": [],
   "source": [
    "from sklearn.model_selection import train_test_split\n",
    "X_train, X_test = train_test_split(full_set, train_size=0.9, shuffle=True)"
   ],
   "metadata": {
    "collapsed": false,
    "pycharm": {
     "name": "#%%\n"
    }
   }
  },
  {
   "cell_type": "code",
   "execution_count": 58,
   "outputs": [
    {
     "data": {
      "text/plain": "(15952, 14356, 1596)"
     },
     "execution_count": 58,
     "metadata": {},
     "output_type": "execute_result"
    }
   ],
   "source": [
    "len(full_set), len(X_train), len(X_test)"
   ],
   "metadata": {
    "collapsed": false,
    "pycharm": {
     "name": "#%%\n"
    }
   }
  },
  {
   "cell_type": "code",
   "execution_count": 59,
   "outputs": [
    {
     "data": {
      "text/plain": "<Figure size 640x480 with 1 Axes>",
      "image/png": "[encoded data removed]"
     },
     "metadata": {},
     "output_type": "display_data"
    }
   ],
   "source": [
    "show_steering_angles(X_train, hist, bins, samples_per_bin)"
   ],
   "metadata": {
    "collapsed": false,
    "pycharm": {
     "name": "#%%\n"
    }
   }
  },
  {
   "cell_type": "code",
   "execution_count": 60,
   "outputs": [
    {
     "data": {
      "text/plain": "<Figure size 640x480 with 1 Axes>",
      "image/png": "[encoded data removed]"
     },
     "metadata": {},
     "output_type": "display_data"
    }
   ],
   "source": [
    "show_steering_angles(X_test, hist, bins, samples_per_bin)"
   ],
   "metadata": {
    "collapsed": false,
    "pycharm": {
     "name": "#%%\n"
    }
   }
  },
  {
   "cell_type": "code",
   "execution_count": 61,
   "outputs": [
    {
     "data": {
      "text/plain": "                                   center                              left   \n10524  center_2019_04_02_18_05_47_271.jpg  left_2019_04_02_18_05_47_271.jpg  \\\n35690  center_2023_04_28_21_10_38_723.jpg  left_2023_04_28_21_10_38_723.jpg   \n11599  center_2019_04_02_18_07_06_320.jpg  left_2019_04_02_18_07_06_320.jpg   \n14823  center_2019_04_02_18_10_51_472.jpg  left_2019_04_02_18_10_51_472.jpg   \n13799  center_2019_04_02_18_09_39_945.jpg  left_2019_04_02_18_09_39_945.jpg   \n\n                                   right  steering_angle           folder  \n10524  right_2019_04_02_18_05_47_271.jpg         0.00000           good 2  \n35690  right_2023_04_28_21_10_38_723.jpg         0.08627  track 1 reverse  \n11599  right_2019_04_02_18_07_06_320.jpg        -0.20000           good 2  \n14823  right_2019_04_02_18_10_51_472.jpg         0.90000           good 2  \n13799  right_2019_04_02_18_09_39_945.jpg        -0.05000           good 2  ",
      "text/html": "<div>\n<style scoped>\n    .dataframe tbody tr th:only-of-type {\n        vertical-align: middle;\n    }\n\n    .dataframe tbody tr th {\n        vertical-align: top;\n    }\n\n    .dataframe thead th {\n        text-align: right;\n    }\n</style>\n<table border=\"1\" class=\"dataframe\">\n  <thead>\n    <tr style=\"text-align: right;\">\n      <th></th>\n      <th>center</th>\n      <th>left</th>\n      <th>right</th>\n      <th>steering_angle</th>\n      <th>folder</th>\n    </tr>\n  </thead>\n  <tbody>\n    <tr>\n      <th>10524</th>\n      <td>center_2019_04_02_18_05_47_271.jpg</td>\n      <td>left_2019_04_02_18_05_47_271.jpg</td>\n      <td>right_2019_04_02_18_05_47_271.jpg</td>\n      <td>0.00000</td>\n      <td>good 2</td>\n    </tr>\n    <tr>\n      <th>35690</th>\n      <td>center_2023_04_28_21_10_38_723.jpg</td>\n      <td>left_2023_04_28_21_10_38_723.jpg</td>\n      <td>right_2023_04_28_21_10_38_723.jpg</td>\n      <td>0.08627</td>\n      <td>track 1 reverse</td>\n    </tr>\n    <tr>\n      <th>11599</th>\n      <td>center_2019_04_02_18_07_06_320.jpg</td>\n      <td>left_2019_04_02_18_07_06_320.jpg</td>\n      <td>right_2019_04_02_18_07_06_320.jpg</td>\n      <td>-0.20000</td>\n      <td>good 2</td>\n    </tr>\n    <tr>\n      <th>14823</th>\n      <td>center_2019_04_02_18_10_51_472.jpg</td>\n      <td>left_2019_04_02_18_10_51_472.jpg</td>\n      <td>right_2019_04_02_18_10_51_472.jpg</td>\n      <td>0.90000</td>\n      <td>good 2</td>\n    </tr>\n    <tr>\n      <th>13799</th>\n      <td>center_2019_04_02_18_09_39_945.jpg</td>\n      <td>left_2019_04_02_18_09_39_945.jpg</td>\n      <td>right_2019_04_02_18_09_39_945.jpg</td>\n      <td>-0.05000</td>\n      <td>good 2</td>\n    </tr>\n  </tbody>\n</table>\n</div>"
     },
     "execution_count": 61,
     "metadata": {},
     "output_type": "execute_result"
    }
   ],
   "source": [
    "X_train.head()"
   ],
   "metadata": {
    "collapsed": false,
    "pycharm": {
     "name": "#%%\n"
    }
   }
  },
  {
   "cell_type": "markdown",
   "source": [
    "# Preprocess Images"
   ],
   "metadata": {
    "collapsed": false,
    "pycharm": {
     "name": "#%% md\n"
    }
   }
  },
  {
   "cell_type": "code",
   "execution_count": 104,
   "outputs": [],
   "source": [
    "import os, shutil\n",
    "\n",
    "def clear_folder(folder):\n",
    "    for files in os.listdir(folder):\n",
    "        path = os.path.join(folder, files)\n",
    "        try:\n",
    "            shutil.rmtree(path)\n",
    "        except OSError:\n",
    "            os.remove(path)\n"
   ],
   "metadata": {
    "collapsed": false,
    "pycharm": {
     "name": "#%%\n"
    }
   }
  },
  {
   "cell_type": "code",
   "execution_count": 105,
   "outputs": [],
   "source": [
    "from torchvision.io import read_image\n",
    "from PIL import Image\n",
    "from utils import preprocess\n",
    "\n",
    "PREPROCESSED_FOLDER = '.\\\\data\\\\preprocessed\\\\'\n",
    "\n",
    "def preprocess_and_store_images(df, stage='train'):\n",
    "    clear_folder(PREPROCESSED_FOLDER + stage)\n",
    "    # os.mkdir(PREPROCESSED_FOLDER + stage)\n",
    "\n",
    "    for index, row in df.iterrows():\n",
    "        folder = row['folder']\n",
    "\n",
    "        for image_name in ['center', 'left', 'right']:\n",
    "            image_name = row[image_name]\n",
    "            raw_path = '.\\\\data\\\\raw\\\\' + folder + '\\\\IMG\\\\' + image_name\n",
    "\n",
    "            if not os.path.exists(raw_path):\n",
    "                continue\n",
    "\n",
    "            image = read_image(raw_path)\n",
    "            # print('Original Shape : ', image.shape)\n",
    "            image = preprocess(image)\n",
    "            # print('New Shape : ', image.shape)\n",
    "            # print(image[0, 0, :10])\n",
    "\n",
    "            path = '{}\\\\{}\\\\{}'.format(PREPROCESSED_FOLDER, stage, image_name)\n",
    "            Image.fromarray(image.numpy().transpose(1, 2, 0)).save(path)"
   ],
   "metadata": {
    "collapsed": false,
    "pycharm": {
     "name": "#%%\n"
    }
   }
  },
  {
   "cell_type": "code",
   "execution_count": 106,
   "outputs": [],
   "source": [
    "preprocess_and_store_images(X_train, 'train')\n",
    "preprocess_and_store_images(X_test, 'test')"
   ],
   "metadata": {
    "collapsed": false,
    "pycharm": {
     "name": "#%%\n"
    }
   }
  },
  {
   "cell_type": "markdown",
   "source": [
    "# Save CSV"
   ],
   "metadata": {
    "collapsed": false,
    "pycharm": {
     "name": "#%% md\n"
    }
   }
  },
  {
   "cell_type": "code",
   "execution_count": 107,
   "outputs": [],
   "source": [
    "X_train.to_csv(\n",
    "    '.\\\\data\\\\preprocessed\\\\driving_train_log.csv',\n",
    "    index=False,\n",
    "    columns=['center', 'left', 'right', 'steering_angle']\n",
    ")\n",
    "\n",
    "X_test.to_csv(\n",
    "    '.\\\\data\\\\preprocessed\\\\driving_test_log.csv',\n",
    "    index=False,\n",
    "    columns=['center', 'left', 'right', 'steering_angle']\n",
    ")"
   ],
   "metadata": {
    "collapsed": false,
    "pycharm": {
     "name": "#%%\n"
    }
   }
  },
  {
   "cell_type": "code",
   "execution_count": 107,
   "outputs": [],
   "source": [],
   "metadata": {
    "collapsed": false,
    "pycharm": {
     "name": "#%%\n"
    }
   }
  }
 ],
 "metadata": {
  "kernelspec": {
   "display_name": "Python 3",
   "language": "python",
   "name": "python3"
  },
  "language_info": {
   "codemirror_mode": {
    "name": "ipython",
    "version": 2
   },
   "file_extension": ".py",
   "mimetype": "text/x-python",
   "name": "python",
   "nbconvert_exporter": "python",
   "pygments_lexer": "ipython2",
   "version": "2.7.6"
  }
 },
 "nbformat": 4,
 "nbformat_minor": 0
}