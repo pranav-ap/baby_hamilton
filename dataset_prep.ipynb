{
 "cells": [
  {
   "cell_type": "code",
   "execution_count": 187,
   "outputs": [],
   "source": [
    "import os\n",
    "import random\n",
    "import numpy as np\n",
    "import pandas as pd\n",
    "import matplotlib.pyplot as plt\n",
    "\n",
    "from utils import preprocess, all_paths_exist"
   ],
   "metadata": {
    "collapsed": false,
    "pycharm": {
     "name": "#%%\n"
    },
    "ExecuteTime": {
     "end_time": "2023-05-10T18:05:21.597367100Z",
     "start_time": "2023-05-10T18:05:21.104210300Z"
    }
   }
  },
  {
   "cell_type": "code",
   "execution_count": 188,
   "outputs": [],
   "source": [
    "# from google.colab import drive\n",
    "# drive.mount('/content/gdrive')"
   ],
   "metadata": {
    "collapsed": false,
    "pycharm": {
     "name": "#%%\n"
    },
    "ExecuteTime": {
     "end_time": "2023-05-10T18:05:21.597367100Z",
     "start_time": "2023-05-10T18:05:21.118986Z"
    }
   }
  },
  {
   "cell_type": "code",
   "execution_count": 189,
   "outputs": [],
   "source": [
    "raw_folders = [\n",
    "    'good 1',\n",
    "    'track 1 normal',\n",
    "    'track 1 normal 2',\n",
    "    'track 1 normal 3',\n",
    "    'track 1 reverse',\n",
    "    'track 1 reverse 2',\n",
    "    'track 1 reverse 3'\n",
    "]"
   ],
   "metadata": {
    "collapsed": false,
    "pycharm": {
     "name": "#%%\n"
    },
    "ExecuteTime": {
     "end_time": "2023-05-10T18:05:21.618085100Z",
     "start_time": "2023-05-10T18:05:21.134263200Z"
    }
   }
  },
  {
   "cell_type": "code",
   "execution_count": 190,
   "outputs": [],
   "source": [
    "def extract_file_name(path):\n",
    "    return path.split('\\\\')[-1]\n",
    "\n",
    "\n",
    "def read_raw_driving_csv(folder: str):\n",
    "    csv_path = '.\\\\data\\\\raw\\\\{0}\\\\driving_log.csv'.format(folder)\n",
    "\n",
    "    with open(csv_path, 'r') as f:\n",
    "        csv = pd.read_csv(\n",
    "            csv_path,\n",
    "            header=None,\n",
    "            names=['center', 'left', 'right', 'steering_angle'],\n",
    "            usecols=[0, 1, 2, 3],\n",
    "            converters={\n",
    "                'center': lambda x: extract_file_name(x),\n",
    "                'left': lambda x: extract_file_name(x),\n",
    "                'right': lambda x: extract_file_name(x)\n",
    "            }\n",
    "        )\n",
    "\n",
    "        return csv"
   ],
   "metadata": {
    "collapsed": false,
    "ExecuteTime": {
     "end_time": "2023-05-10T18:05:21.619090Z",
     "start_time": "2023-05-10T18:05:21.152300300Z"
    }
   }
  },
  {
   "cell_type": "code",
   "execution_count": 191,
   "outputs": [],
   "source": [
    "def remove_non_triple_images(raw_folders):\n",
    "    for folder in raw_folders:\n",
    "        remove_indexes = []\n",
    "        print('-- Checking {0}'.format(folder))\n",
    "\n",
    "        df = read_raw_driving_csv(folder)\n",
    "        print('DF Before: ', len(df))\n",
    "\n",
    "        for index, row in df.iterrows():\n",
    "            center = '.\\\\data\\\\raw\\\\{0}\\\\IMG\\\\{1}'.format(folder, row['center'])\n",
    "            left = '.\\\\data\\\\raw\\\\{0}\\\\IMG\\\\{1}'.format(folder, row['left'])\n",
    "            right = '.\\\\data\\\\raw\\\\{0}\\\\IMG\\\\{1}'.format(folder, row['right'])\n",
    "\n",
    "            # if an image does not exist, remove all images from the same row\n",
    "            if not all_paths_exist([center, left, right]):\n",
    "                for path in [center, left, right]:\n",
    "                    if os.path.exists(path):\n",
    "                        os.remove(path)\n",
    "\n",
    "                remove_indexes.append(index)\n",
    "\n",
    "        df.drop(index=df.index[remove_indexes], inplace=True)\n",
    "        print('DF After : ', len(df))\n",
    "\n",
    "        csv_path = '.\\\\data\\\\raw\\\\{0}\\\\driving_log.csv'.format(folder)\n",
    "        df.to_csv(csv_path, index=False, header=False)"
   ],
   "metadata": {
    "collapsed": false,
    "pycharm": {
     "name": "#%%\n"
    },
    "ExecuteTime": {
     "end_time": "2023-05-10T18:05:21.675508200Z",
     "start_time": "2023-05-10T18:05:21.170378100Z"
    }
   }
  },
  {
   "cell_type": "code",
   "execution_count": 192,
   "outputs": [
    {
     "name": "stdout",
     "output_type": "stream",
     "text": [
      "-- Checking good 1\n",
      "DF Before:  10405\n",
      "DF After :  10405\n",
      "-- Checking track 1 normal\n",
      "DF Before:  2194\n",
      "DF After :  2194\n",
      "-- Checking track 1 normal 2\n",
      "DF Before:  1996\n",
      "DF After :  1996\n",
      "-- Checking track 1 normal 3\n",
      "DF Before:  9305\n",
      "DF After :  9305\n",
      "-- Checking track 1 reverse\n",
      "DF Before:  2934\n",
      "DF After :  2934\n",
      "-- Checking track 1 reverse 2\n",
      "DF Before:  6948\n",
      "DF After :  6948\n",
      "-- Checking track 1 reverse 3\n",
      "DF Before:  6036\n",
      "DF After :  5462\n"
     ]
    }
   ],
   "source": [
    "remove_non_triple_images(raw_folders)"
   ],
   "metadata": {
    "collapsed": false,
    "pycharm": {
     "name": "#%%\n"
    },
    "ExecuteTime": {
     "end_time": "2023-05-10T18:05:33.248329400Z",
     "start_time": "2023-05-10T18:05:21.197404Z"
    }
   }
  },
  {
   "cell_type": "markdown",
   "source": [
    "# Load and Visualize Dataset"
   ],
   "metadata": {
    "collapsed": false,
    "pycharm": {
     "name": "#%% md\n"
    }
   }
  },
  {
   "cell_type": "code",
   "execution_count": 193,
   "outputs": [],
   "source": [
    "full_set = pd.DataFrame()\n",
    "\n",
    "for folder in raw_folders:\n",
    "    df = read_raw_driving_csv(folder)\n",
    "    df['folder'] = folder\n",
    "    full_set = pd.concat([full_set, df], ignore_index=True)"
   ],
   "metadata": {
    "collapsed": false,
    "pycharm": {
     "name": "#%%\n"
    },
    "ExecuteTime": {
     "end_time": "2023-05-10T18:05:33.437921500Z",
     "start_time": "2023-05-10T18:05:33.268382600Z"
    }
   }
  },
  {
   "cell_type": "code",
   "execution_count": 194,
   "outputs": [
    {
     "data": {
      "text/plain": "center             object\nleft               object\nright              object\nsteering_angle    float64\nfolder             object\ndtype: object"
     },
     "execution_count": 194,
     "metadata": {},
     "output_type": "execute_result"
    }
   ],
   "source": [
    "full_set.dtypes"
   ],
   "metadata": {
    "collapsed": false,
    "pycharm": {
     "name": "#%%\n"
    },
    "ExecuteTime": {
     "end_time": "2023-05-10T18:05:33.486693400Z",
     "start_time": "2023-05-10T18:05:33.440935500Z"
    }
   }
  },
  {
   "cell_type": "code",
   "execution_count": 195,
   "outputs": [
    {
     "data": {
      "text/plain": "                               center                              left   \n0  center_2019_04_02_19_25_35_023.jpg  left_2019_04_02_19_25_35_023.jpg  \\\n1  center_2019_04_02_19_25_35_092.jpg  left_2019_04_02_19_25_35_092.jpg   \n2  center_2019_04_02_19_25_35_164.jpg  left_2019_04_02_19_25_35_164.jpg   \n3  center_2019_04_02_19_25_35_232.jpg  left_2019_04_02_19_25_35_232.jpg   \n4  center_2019_04_02_19_25_35_303.jpg  left_2019_04_02_19_25_35_303.jpg   \n\n                               right  steering_angle  folder  \n0  right_2019_04_02_19_25_35_023.jpg            0.00  good 1  \n1  right_2019_04_02_19_25_35_092.jpg           -0.15  good 1  \n2  right_2019_04_02_19_25_35_164.jpg            0.00  good 1  \n3  right_2019_04_02_19_25_35_232.jpg            0.00  good 1  \n4  right_2019_04_02_19_25_35_303.jpg            0.00  good 1  ",
      "text/html": "<div>\n<style scoped>\n    .dataframe tbody tr th:only-of-type {\n        vertical-align: middle;\n    }\n\n    .dataframe tbody tr th {\n        vertical-align: top;\n    }\n\n    .dataframe thead th {\n        text-align: right;\n    }\n</style>\n<table border=\"1\" class=\"dataframe\">\n  <thead>\n    <tr style=\"text-align: right;\">\n      <th></th>\n      <th>center</th>\n      <th>left</th>\n      <th>right</th>\n      <th>steering_angle</th>\n      <th>folder</th>\n    </tr>\n  </thead>\n  <tbody>\n    <tr>\n      <th>0</th>\n      <td>center_2019_04_02_19_25_35_023.jpg</td>\n      <td>left_2019_04_02_19_25_35_023.jpg</td>\n      <td>right_2019_04_02_19_25_35_023.jpg</td>\n      <td>0.00</td>\n      <td>good 1</td>\n    </tr>\n    <tr>\n      <th>1</th>\n      <td>center_2019_04_02_19_25_35_092.jpg</td>\n      <td>left_2019_04_02_19_25_35_092.jpg</td>\n      <td>right_2019_04_02_19_25_35_092.jpg</td>\n      <td>-0.15</td>\n      <td>good 1</td>\n    </tr>\n    <tr>\n      <th>2</th>\n      <td>center_2019_04_02_19_25_35_164.jpg</td>\n      <td>left_2019_04_02_19_25_35_164.jpg</td>\n      <td>right_2019_04_02_19_25_35_164.jpg</td>\n      <td>0.00</td>\n      <td>good 1</td>\n    </tr>\n    <tr>\n      <th>3</th>\n      <td>center_2019_04_02_19_25_35_232.jpg</td>\n      <td>left_2019_04_02_19_25_35_232.jpg</td>\n      <td>right_2019_04_02_19_25_35_232.jpg</td>\n      <td>0.00</td>\n      <td>good 1</td>\n    </tr>\n    <tr>\n      <th>4</th>\n      <td>center_2019_04_02_19_25_35_303.jpg</td>\n      <td>left_2019_04_02_19_25_35_303.jpg</td>\n      <td>right_2019_04_02_19_25_35_303.jpg</td>\n      <td>0.00</td>\n      <td>good 1</td>\n    </tr>\n  </tbody>\n</table>\n</div>"
     },
     "execution_count": 195,
     "metadata": {},
     "output_type": "execute_result"
    }
   ],
   "source": [
    "full_set.head()"
   ],
   "metadata": {
    "collapsed": false,
    "pycharm": {
     "name": "#%%\n"
    },
    "ExecuteTime": {
     "end_time": "2023-05-10T18:05:33.509777100Z",
     "start_time": "2023-05-10T18:05:33.472168300Z"
    }
   }
  },
  {
   "cell_type": "code",
   "execution_count": 196,
   "outputs": [
    {
     "data": {
      "text/plain": "center            center_2019_04_02_19_25_35_092.jpg\nleft                left_2019_04_02_19_25_35_092.jpg\nright              right_2019_04_02_19_25_35_092.jpg\nsteering_angle                                 -0.15\nfolder                                        good 1\nName: 1, dtype: object"
     },
     "execution_count": 196,
     "metadata": {},
     "output_type": "execute_result"
    }
   ],
   "source": [
    "full_set.iloc[1]"
   ],
   "metadata": {
    "collapsed": false,
    "pycharm": {
     "name": "#%%\n"
    },
    "ExecuteTime": {
     "end_time": "2023-05-10T18:05:33.580146400Z",
     "start_time": "2023-05-10T18:05:33.503250400Z"
    }
   }
  },
  {
   "cell_type": "code",
   "execution_count": 197,
   "outputs": [
    {
     "data": {
      "text/plain": "'good 1'"
     },
     "execution_count": 197,
     "metadata": {},
     "output_type": "execute_result"
    }
   ],
   "source": [
    "full_set.iloc[1]['folder']"
   ],
   "metadata": {
    "collapsed": false,
    "pycharm": {
     "name": "#%%\n"
    },
    "ExecuteTime": {
     "end_time": "2023-05-10T18:05:33.683512Z",
     "start_time": "2023-05-10T18:05:33.517301200Z"
    }
   }
  },
  {
   "cell_type": "code",
   "execution_count": 198,
   "outputs": [
    {
     "data": {
      "text/plain": "-0.15"
     },
     "execution_count": 198,
     "metadata": {},
     "output_type": "execute_result"
    }
   ],
   "source": [
    "full_set['steering_angle'][1]"
   ],
   "metadata": {
    "collapsed": false,
    "pycharm": {
     "name": "#%%\n"
    },
    "ExecuteTime": {
     "end_time": "2023-05-10T18:05:33.684514300Z",
     "start_time": "2023-05-10T18:05:33.535017700Z"
    }
   }
  },
  {
   "cell_type": "markdown",
   "source": [
    "# Balance the Dataset"
   ],
   "metadata": {
    "collapsed": false,
    "pycharm": {
     "name": "#%% md\n"
    }
   }
  },
  {
   "cell_type": "code",
   "execution_count": 199,
   "outputs": [],
   "source": [
    "num_bins = 21\n",
    "samples_per_bin = 2500"
   ],
   "metadata": {
    "collapsed": false,
    "pycharm": {
     "name": "#%%\n"
    },
    "ExecuteTime": {
     "end_time": "2023-05-10T18:05:33.684514300Z",
     "start_time": "2023-05-10T18:05:33.550824300Z"
    }
   }
  },
  {
   "cell_type": "code",
   "execution_count": 200,
   "outputs": [],
   "source": [
    "def show_steering_angles(full_set, hist, bins, samples_per_bin):\n",
    "    center = (bins[:-1] + bins[1:]) * 0.5\n",
    "    plt.bar(center, hist, width=0.05)\n",
    "    plt.plot(\n",
    "        (np.min(full_set['steering_angle']), np.max(full_set['steering_angle'])),\n",
    "        (samples_per_bin, samples_per_bin)\n",
    "    )"
   ],
   "metadata": {
    "collapsed": false,
    "pycharm": {
     "name": "#%%\n"
    },
    "ExecuteTime": {
     "end_time": "2023-05-10T18:05:33.685519200Z",
     "start_time": "2023-05-10T18:05:33.567878900Z"
    }
   }
  },
  {
   "cell_type": "code",
   "execution_count": 201,
   "outputs": [
    {
     "data": {
      "text/plain": "<Figure size 640x480 with 1 Axes>",
      "image/png": "[encoded data removed]"
     },
     "metadata": {},
     "output_type": "display_data"
    }
   ],
   "source": [
    "hist, bins = np.histogram(full_set['steering_angle'], num_bins)\n",
    "show_steering_angles(full_set, hist, bins, samples_per_bin)"
   ],
   "metadata": {
    "collapsed": false,
    "pycharm": {
     "name": "#%%\n"
    },
    "ExecuteTime": {
     "end_time": "2023-05-10T18:05:33.894207300Z",
     "start_time": "2023-05-10T18:05:33.582152Z"
    }
   }
  },
  {
   "cell_type": "code",
   "execution_count": 202,
   "outputs": [
    {
     "name": "stdout",
     "output_type": "stream",
     "text": [
      "total data: 39244\n",
      "removed: 25600\n",
      "remaining: 13644\n"
     ]
    }
   ],
   "source": [
    "print('total data:', len(full_set))\n",
    "remove_list = []\n",
    "\n",
    "for j in range(num_bins):\n",
    "  list_ = []\n",
    "  for i in range(len(full_set['steering_angle'])):\n",
    "    if bins[j] <= full_set['steering_angle'][i] <= bins[j + 1]:\n",
    "      list_.append(i)\n",
    "\n",
    "  random.shuffle(list_)\n",
    "  list_ = list_[samples_per_bin:]\n",
    "  remove_list.extend(list_)\n",
    "\n",
    "print('removed:', len(remove_list))\n",
    "full_set.drop(full_set.index[remove_list], inplace=True)\n",
    "print('remaining:', len(full_set))"
   ],
   "metadata": {
    "collapsed": false,
    "pycharm": {
     "name": "#%%\n"
    },
    "ExecuteTime": {
     "end_time": "2023-05-10T18:05:41.580270700Z",
     "start_time": "2023-05-10T18:05:33.897209100Z"
    }
   }
  },
  {
   "cell_type": "code",
   "execution_count": 203,
   "outputs": [
    {
     "data": {
      "text/plain": "<Figure size 640x480 with 1 Axes>",
      "image/png": "[encoded data removed]"
     },
     "metadata": {},
     "output_type": "display_data"
    }
   ],
   "source": [
    "hist, bins = np.histogram(full_set['steering_angle'], num_bins)\n",
    "show_steering_angles(full_set, hist, bins, samples_per_bin)"
   ],
   "metadata": {
    "collapsed": false,
    "pycharm": {
     "name": "#%%\n"
    },
    "ExecuteTime": {
     "end_time": "2023-05-10T18:05:41.798001100Z",
     "start_time": "2023-05-10T18:05:41.585285500Z"
    }
   }
  },
  {
   "cell_type": "markdown",
   "source": [
    "# Split the CSV"
   ],
   "metadata": {
    "collapsed": false,
    "pycharm": {
     "name": "#%% md\n"
    }
   }
  },
  {
   "cell_type": "code",
   "execution_count": 204,
   "outputs": [],
   "source": [
    "from sklearn.model_selection import train_test_split\n",
    "X_train, X_test = train_test_split(full_set, train_size=0.9, shuffle=True)"
   ],
   "metadata": {
    "collapsed": false,
    "pycharm": {
     "name": "#%%\n"
    },
    "ExecuteTime": {
     "end_time": "2023-05-10T18:09:53.124926600Z",
     "start_time": "2023-05-10T18:09:50.921021200Z"
    }
   }
  },
  {
   "cell_type": "code",
   "execution_count": 205,
   "outputs": [
    {
     "data": {
      "text/plain": "(13644, 12279, 1365)"
     },
     "execution_count": 205,
     "metadata": {},
     "output_type": "execute_result"
    }
   ],
   "source": [
    "len(full_set), len(X_train), len(X_test)"
   ],
   "metadata": {
    "collapsed": false,
    "pycharm": {
     "name": "#%%\n"
    },
    "ExecuteTime": {
     "end_time": "2023-05-10T18:09:58.793706600Z",
     "start_time": "2023-05-10T18:09:58.771127500Z"
    }
   }
  },
  {
   "cell_type": "code",
   "execution_count": 206,
   "outputs": [
    {
     "data": {
      "text/plain": "<Figure size 640x480 with 1 Axes>",
      "image/png": "[encoded data removed]"
     },
     "metadata": {},
     "output_type": "display_data"
    }
   ],
   "source": [
    "show_steering_angles(X_train, hist, bins, samples_per_bin)"
   ],
   "metadata": {
    "collapsed": false,
    "pycharm": {
     "name": "#%%\n"
    },
    "ExecuteTime": {
     "end_time": "2023-05-10T18:10:14.111166500Z",
     "start_time": "2023-05-10T18:10:13.872871400Z"
    }
   }
  },
  {
   "cell_type": "code",
   "execution_count": 207,
   "outputs": [
    {
     "data": {
      "text/plain": "<Figure size 640x480 with 1 Axes>",
      "image/png": "[encoded data removed]"
     },
     "metadata": {},
     "output_type": "display_data"
    }
   ],
   "source": [
    "show_steering_angles(X_test, hist, bins, samples_per_bin)"
   ],
   "metadata": {
    "collapsed": false,
    "pycharm": {
     "name": "#%%\n"
    },
    "ExecuteTime": {
     "end_time": "2023-05-10T18:10:18.100929800Z",
     "start_time": "2023-05-10T18:10:17.853367600Z"
    }
   }
  },
  {
   "cell_type": "code",
   "execution_count": 208,
   "outputs": [
    {
     "data": {
      "text/plain": "                                   center                              left   \n28114  center_2023_05_10_17_40_52_311.jpg  left_2023_05_10_17_40_52_311.jpg  \\\n27492  center_2023_05_10_17_39_44_272.jpg  left_2023_05_10_17_39_44_272.jpg   \n36333  center_2023_05_10_18_43_40_525.jpg  left_2023_05_10_18_43_40_525.jpg   \n15649  center_2023_05_10_12_05_33_534.jpg  left_2023_05_10_12_05_33_534.jpg   \n33650  center_2023_05_10_17_51_07_346.jpg  left_2023_05_10_17_51_07_346.jpg   \n\n                                   right  steering_angle             folder  \n28114  right_2023_05_10_17_40_52_311.jpg       -0.242739  track 1 reverse 2  \n27492  right_2023_05_10_17_39_44_272.jpg        0.129364  track 1 reverse 2  \n36333  right_2023_05_10_18_43_40_525.jpg        0.000000  track 1 reverse 3  \n15649  right_2023_05_10_12_05_33_534.jpg       -0.214484   track 1 normal 3  \n33650  right_2023_05_10_17_51_07_346.jpg        0.090911  track 1 reverse 2  ",
      "text/html": "<div>\n<style scoped>\n    .dataframe tbody tr th:only-of-type {\n        vertical-align: middle;\n    }\n\n    .dataframe tbody tr th {\n        vertical-align: top;\n    }\n\n    .dataframe thead th {\n        text-align: right;\n    }\n</style>\n<table border=\"1\" class=\"dataframe\">\n  <thead>\n    <tr style=\"text-align: right;\">\n      <th></th>\n      <th>center</th>\n      <th>left</th>\n      <th>right</th>\n      <th>steering_angle</th>\n      <th>folder</th>\n    </tr>\n  </thead>\n  <tbody>\n    <tr>\n      <th>28114</th>\n      <td>center_2023_05_10_17_40_52_311.jpg</td>\n      <td>left_2023_05_10_17_40_52_311.jpg</td>\n      <td>right_2023_05_10_17_40_52_311.jpg</td>\n      <td>-0.242739</td>\n      <td>track 1 reverse 2</td>\n    </tr>\n    <tr>\n      <th>27492</th>\n      <td>center_2023_05_10_17_39_44_272.jpg</td>\n      <td>left_2023_05_10_17_39_44_272.jpg</td>\n      <td>right_2023_05_10_17_39_44_272.jpg</td>\n      <td>0.129364</td>\n      <td>track 1 reverse 2</td>\n    </tr>\n    <tr>\n      <th>36333</th>\n      <td>center_2023_05_10_18_43_40_525.jpg</td>\n      <td>left_2023_05_10_18_43_40_525.jpg</td>\n      <td>right_2023_05_10_18_43_40_525.jpg</td>\n      <td>0.000000</td>\n      <td>track 1 reverse 3</td>\n    </tr>\n    <tr>\n      <th>15649</th>\n      <td>center_2023_05_10_12_05_33_534.jpg</td>\n      <td>left_2023_05_10_12_05_33_534.jpg</td>\n      <td>right_2023_05_10_12_05_33_534.jpg</td>\n      <td>-0.214484</td>\n      <td>track 1 normal 3</td>\n    </tr>\n    <tr>\n      <th>33650</th>\n      <td>center_2023_05_10_17_51_07_346.jpg</td>\n      <td>left_2023_05_10_17_51_07_346.jpg</td>\n      <td>right_2023_05_10_17_51_07_346.jpg</td>\n      <td>0.090911</td>\n      <td>track 1 reverse 2</td>\n    </tr>\n  </tbody>\n</table>\n</div>"
     },
     "execution_count": 208,
     "metadata": {},
     "output_type": "execute_result"
    }
   ],
   "source": [
    "X_train.head()"
   ],
   "metadata": {
    "collapsed": false,
    "pycharm": {
     "name": "#%%\n"
    },
    "ExecuteTime": {
     "end_time": "2023-05-10T18:10:32.744706100Z",
     "start_time": "2023-05-10T18:10:32.724532700Z"
    }
   }
  },
  {
   "cell_type": "markdown",
   "source": [
    "# Preprocess Images"
   ],
   "metadata": {
    "collapsed": false,
    "pycharm": {
     "name": "#%% md\n"
    }
   }
  },
  {
   "cell_type": "code",
   "execution_count": 211,
   "outputs": [],
   "source": [
    "import os, shutil\n",
    "\n",
    "def clear_folder(folder):\n",
    "    for files in os.listdir(folder):\n",
    "        path = os.path.join(folder, files)\n",
    "        try:\n",
    "            shutil.rmtree(path)\n",
    "        except OSError:\n",
    "            os.remove(path)\n"
   ],
   "metadata": {
    "collapsed": false,
    "pycharm": {
     "name": "#%%\n"
    },
    "ExecuteTime": {
     "end_time": "2023-05-10T18:20:05.262641800Z",
     "start_time": "2023-05-10T18:20:05.225813Z"
    }
   }
  },
  {
   "cell_type": "code",
   "execution_count": 212,
   "outputs": [],
   "source": [
    "from torchvision.io import read_image\n",
    "from PIL import Image\n",
    "\n",
    "PREPROCESSED_FOLDER = '.\\\\data\\\\preprocessed\\\\'\n",
    "\n",
    "def preprocess_and_store_images(df, stage):\n",
    "    clear_folder(PREPROCESSED_FOLDER + stage)\n",
    "\n",
    "    for index, row in df.iterrows():\n",
    "        folder = row['folder']\n",
    "\n",
    "        for image_name in ['center', 'left', 'right']:\n",
    "            image_name = row[image_name]\n",
    "            raw_path = '.\\\\data\\\\raw\\\\' + folder + '\\\\IMG\\\\' + image_name\n",
    "\n",
    "            if not os.path.exists(raw_path):\n",
    "                continue\n",
    "\n",
    "            image = read_image(raw_path)\n",
    "            image = preprocess(image)\n",
    "\n",
    "            path = '{}\\\\{}\\\\{}'.format(PREPROCESSED_FOLDER, stage, image_name)\n",
    "            Image.fromarray(image.numpy().transpose(1, 2, 0)).save(path)"
   ],
   "metadata": {
    "collapsed": false,
    "pycharm": {
     "name": "#%%\n"
    },
    "ExecuteTime": {
     "end_time": "2023-05-10T18:20:07.437192800Z",
     "start_time": "2023-05-10T18:20:07.412762Z"
    }
   }
  },
  {
   "cell_type": "code",
   "execution_count": 213,
   "outputs": [],
   "source": [
    "preprocess_and_store_images(X_train, 'train')\n",
    "preprocess_and_store_images(X_test, 'test')"
   ],
   "metadata": {
    "collapsed": false,
    "pycharm": {
     "name": "#%%\n"
    },
    "ExecuteTime": {
     "end_time": "2023-05-10T18:23:55.948598100Z",
     "start_time": "2023-05-10T18:20:10.770358800Z"
    }
   }
  },
  {
   "cell_type": "code",
   "execution_count": 220,
   "outputs": [
    {
     "data": {
      "text/plain": "(12279, 36837, 36837)"
     },
     "execution_count": 220,
     "metadata": {},
     "output_type": "execute_result"
    }
   ],
   "source": [
    "len(X_train), len(X_train) * 3, len(os.listdir('.\\\\data\\\\preprocessed\\\\train'))"
   ],
   "metadata": {
    "collapsed": false,
    "ExecuteTime": {
     "end_time": "2023-05-10T18:35:26.479132Z",
     "start_time": "2023-05-10T18:35:26.428566700Z"
    }
   }
  },
  {
   "cell_type": "markdown",
   "source": [
    "# Save CSV"
   ],
   "metadata": {
    "collapsed": false,
    "pycharm": {
     "name": "#%% md\n"
    }
   }
  },
  {
   "cell_type": "code",
   "execution_count": 221,
   "outputs": [],
   "source": [
    "X_train.to_csv(\n",
    "    '.\\\\data\\\\preprocessed\\\\driving_train_log.csv',\n",
    "    index=False,\n",
    "    columns=['center', 'left', 'right', 'steering_angle']\n",
    ")\n",
    "\n",
    "X_test.to_csv(\n",
    "    '.\\\\data\\\\preprocessed\\\\driving_test_log.csv',\n",
    "    index=False,\n",
    "    columns=['center', 'left', 'right', 'steering_angle']\n",
    ")"
   ],
   "metadata": {
    "collapsed": false,
    "pycharm": {
     "name": "#%%\n"
    },
    "ExecuteTime": {
     "end_time": "2023-05-10T18:35:38.130978700Z",
     "start_time": "2023-05-10T18:35:38.030429600Z"
    }
   }
  }
 ],
 "metadata": {
  "kernelspec": {
   "display_name": "Python 3",
   "language": "python",
   "name": "python3"
  },
  "language_info": {
   "codemirror_mode": {
    "name": "ipython",
    "version": 2
   },
   "file_extension": ".py",
   "mimetype": "text/x-python",
   "name": "python",
   "nbconvert_exporter": "python",
   "pygments_lexer": "ipython2",
   "version": "2.7.6"
  }
 },
 "nbformat": 4,
 "nbformat_minor": 0
}
