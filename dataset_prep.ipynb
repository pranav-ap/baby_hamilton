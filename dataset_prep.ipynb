{
 "cells": [
  {
   "cell_type": "code",
   "execution_count": 293,
   "outputs": [],
   "source": [
    "import random\n",
    "import os\n",
    "\n",
    "import numpy as np\n",
    "import pandas as pd\n",
    "import matplotlib.pyplot as plt\n",
    "import torch\n",
    "\n",
    "import torchvision\n",
    "import torchvision.transforms as T\n",
    "\n",
    "plt.rcParams[\"savefig.bbox\"] = 'tight'"
   ],
   "metadata": {
    "collapsed": false,
    "pycharm": {
     "name": "#%%\n"
    }
   }
  },
  {
   "cell_type": "code",
   "execution_count": 294,
   "outputs": [],
   "source": [
    "raw_folders = ['good 1', 'good 2']\n",
    "raw_remove_count = [0, 0]"
   ],
   "metadata": {
    "collapsed": false,
    "pycharm": {
     "name": "#%%\n"
    }
   }
  },
  {
   "cell_type": "code",
   "execution_count": 295,
   "outputs": [],
   "source": [
    "from utils import extract_file_name\n",
    "\n",
    "def read_raw_driving_csv(folder: str):\n",
    "    csv_path = '.\\\\data\\\\raw\\\\{0}\\\\driving_log.csv'.format(folder)\n",
    "\n",
    "    with open(csv_path, 'r') as f:\n",
    "        return pd.read_csv(\n",
    "            csv_path,\n",
    "            header=None,\n",
    "            names=['center', 'left', 'right', 'steering_angle'],\n",
    "            usecols=[0, 1, 2, 3],\n",
    "            converters={\n",
    "                'center': lambda x: extract_file_name(x),\n",
    "                'left': lambda x: extract_file_name(x),\n",
    "                'right': lambda x: extract_file_name(x)\n",
    "            }\n",
    "        )\n"
   ],
   "metadata": {
    "collapsed": false,
    "pycharm": {
     "name": "#%%\n"
    }
   }
  },
  {
   "cell_type": "code",
   "execution_count": 296,
   "outputs": [],
   "source": [
    "from utils import all_paths_exist\n",
    "\n",
    "def remove_non_triple_images(raw_folders):\n",
    "    remove_indexes = []\n",
    "\n",
    "    for folder in raw_folders:\n",
    "        print('-- Checking {0}'.format(folder))\n",
    "\n",
    "        df = read_raw_driving_csv(folder)\n",
    "        print('DF Before: ', len(df))\n",
    "\n",
    "        for index, row in df.iterrows():\n",
    "            image_center_path = '.\\\\data\\\\raw\\\\{0}\\\\IMG\\\\{1}'.format(folder, row['center'])\n",
    "            image_left_path = '.\\\\data\\\\raw\\\\{0}\\\\IMG\\\\{1}'.format(folder, row['left'])\n",
    "            image_right_path = '.\\\\data\\\\raw\\\\{0}\\\\IMG\\\\{1}'.format(folder, row['right'])\n",
    "\n",
    "            # if an image does not exist, remove all images from the same row\n",
    "            if not all_paths_exist([image_center_path, image_left_path, image_right_path]):\n",
    "                for path in [image_center_path, image_left_path, image_right_path]:\n",
    "                    if os.path.exists(path):\n",
    "                        os.remove(path)\n",
    "\n",
    "                remove_indexes.append(index)\n",
    "\n",
    "        df.drop(labels=df.index[remove_indexes], inplace=True)\n",
    "        print('DF After : ', len(df))\n",
    "\n",
    "        csv_path = '.\\\\data\\\\raw\\\\{0}\\\\driving_log.csv'.format(folder)\n",
    "        df.to_csv(csv_path, index=False, header=False)"
   ],
   "metadata": {
    "collapsed": false,
    "pycharm": {
     "name": "#%%\n"
    }
   }
  },
  {
   "cell_type": "code",
   "execution_count": 297,
   "outputs": [
    {
     "name": "stdout",
     "output_type": "stream",
     "text": [
      "-- Checking good 1\n",
      "DF Before:  10405\n",
      "DF After :  10405\n",
      "-- Checking good 2\n",
      "DF Before:  20882\n",
      "DF After :  20882\n"
     ]
    }
   ],
   "source": [
    "remove_non_triple_images(raw_folders)"
   ],
   "metadata": {
    "collapsed": false,
    "pycharm": {
     "name": "#%%\n"
    }
   }
  },
  {
   "cell_type": "markdown",
   "source": [
    "# Load and Visualize Dataset"
   ],
   "metadata": {
    "collapsed": false,
    "pycharm": {
     "name": "#%% md\n"
    }
   }
  },
  {
   "cell_type": "code",
   "execution_count": 298,
   "outputs": [],
   "source": [
    "def remove_random_rows(df, count=1000):\n",
    "    print('--\\nTotal : ', len(df))\n",
    "\n",
    "    drop_indices = np.random.choice(df.index, count, replace=False)\n",
    "\n",
    "    print('Removing : ', len(drop_indices))\n",
    "    df.drop(drop_indices, inplace=True)\n",
    "    print('Remaining : ', len(df))"
   ],
   "metadata": {
    "collapsed": false,
    "pycharm": {
     "name": "#%%\n"
    }
   }
  },
  {
   "cell_type": "code",
   "execution_count": 299,
   "outputs": [
    {
     "name": "stdout",
     "output_type": "stream",
     "text": [
      "--\n",
      "Total :  10405\n",
      "Removing :  0\n",
      "Remaining :  10405\n",
      "--\n",
      "Total :  31287\n",
      "Removing :  0\n",
      "Remaining :  31287\n"
     ]
    }
   ],
   "source": [
    "full_set = pd.DataFrame()\n",
    "\n",
    "for folder, remove_count in zip(raw_folders, raw_remove_count):\n",
    "    df = read_raw_driving_csv(folder)\n",
    "    df['folder'] = folder\n",
    "    full_set = pd.concat([full_set, df], ignore_index=True)\n",
    "    remove_random_rows(full_set, remove_count)"
   ],
   "metadata": {
    "collapsed": false,
    "pycharm": {
     "name": "#%%\n"
    }
   }
  },
  {
   "cell_type": "code",
   "execution_count": 300,
   "outputs": [
    {
     "data": {
      "text/plain": "center             object\nleft               object\nright              object\nsteering_angle    float64\nfolder             object\ndtype: object"
     },
     "execution_count": 300,
     "metadata": {},
     "output_type": "execute_result"
    }
   ],
   "source": [
    "full_set.dtypes"
   ],
   "metadata": {
    "collapsed": false,
    "pycharm": {
     "name": "#%%\n"
    }
   }
  },
  {
   "cell_type": "code",
   "execution_count": 301,
   "outputs": [
    {
     "data": {
      "text/plain": "                               center                              left   \n0  center_2019_04_02_19_25_35_023.jpg  left_2019_04_02_19_25_35_023.jpg  \\\n1  center_2019_04_02_19_25_35_092.jpg  left_2019_04_02_19_25_35_092.jpg   \n2  center_2019_04_02_19_25_35_164.jpg  left_2019_04_02_19_25_35_164.jpg   \n3  center_2019_04_02_19_25_35_232.jpg  left_2019_04_02_19_25_35_232.jpg   \n4  center_2019_04_02_19_25_35_303.jpg  left_2019_04_02_19_25_35_303.jpg   \n\n                               right  steering_angle  folder  \n0  right_2019_04_02_19_25_35_023.jpg            0.00  good 1  \n1  right_2019_04_02_19_25_35_092.jpg           -0.15  good 1  \n2  right_2019_04_02_19_25_35_164.jpg            0.00  good 1  \n3  right_2019_04_02_19_25_35_232.jpg            0.00  good 1  \n4  right_2019_04_02_19_25_35_303.jpg            0.00  good 1  ",
      "text/html": "<div>\n<style scoped>\n    .dataframe tbody tr th:only-of-type {\n        vertical-align: middle;\n    }\n\n    .dataframe tbody tr th {\n        vertical-align: top;\n    }\n\n    .dataframe thead th {\n        text-align: right;\n    }\n</style>\n<table border=\"1\" class=\"dataframe\">\n  <thead>\n    <tr style=\"text-align: right;\">\n      <th></th>\n      <th>center</th>\n      <th>left</th>\n      <th>right</th>\n      <th>steering_angle</th>\n      <th>folder</th>\n    </tr>\n  </thead>\n  <tbody>\n    <tr>\n      <th>0</th>\n      <td>center_2019_04_02_19_25_35_023.jpg</td>\n      <td>left_2019_04_02_19_25_35_023.jpg</td>\n      <td>right_2019_04_02_19_25_35_023.jpg</td>\n      <td>0.00</td>\n      <td>good 1</td>\n    </tr>\n    <tr>\n      <th>1</th>\n      <td>center_2019_04_02_19_25_35_092.jpg</td>\n      <td>left_2019_04_02_19_25_35_092.jpg</td>\n      <td>right_2019_04_02_19_25_35_092.jpg</td>\n      <td>-0.15</td>\n      <td>good 1</td>\n    </tr>\n    <tr>\n      <th>2</th>\n      <td>center_2019_04_02_19_25_35_164.jpg</td>\n      <td>left_2019_04_02_19_25_35_164.jpg</td>\n      <td>right_2019_04_02_19_25_35_164.jpg</td>\n      <td>0.00</td>\n      <td>good 1</td>\n    </tr>\n    <tr>\n      <th>3</th>\n      <td>center_2019_04_02_19_25_35_232.jpg</td>\n      <td>left_2019_04_02_19_25_35_232.jpg</td>\n      <td>right_2019_04_02_19_25_35_232.jpg</td>\n      <td>0.00</td>\n      <td>good 1</td>\n    </tr>\n    <tr>\n      <th>4</th>\n      <td>center_2019_04_02_19_25_35_303.jpg</td>\n      <td>left_2019_04_02_19_25_35_303.jpg</td>\n      <td>right_2019_04_02_19_25_35_303.jpg</td>\n      <td>0.00</td>\n      <td>good 1</td>\n    </tr>\n  </tbody>\n</table>\n</div>"
     },
     "execution_count": 301,
     "metadata": {},
     "output_type": "execute_result"
    }
   ],
   "source": [
    "full_set.head()"
   ],
   "metadata": {
    "collapsed": false,
    "pycharm": {
     "name": "#%%\n"
    }
   }
  },
  {
   "cell_type": "code",
   "execution_count": 302,
   "outputs": [
    {
     "data": {
      "text/plain": "center            center_2019_04_02_19_25_35_092.jpg\nleft                left_2019_04_02_19_25_35_092.jpg\nright              right_2019_04_02_19_25_35_092.jpg\nsteering_angle                                 -0.15\nfolder                                        good 1\nName: 1, dtype: object"
     },
     "execution_count": 302,
     "metadata": {},
     "output_type": "execute_result"
    }
   ],
   "source": [
    "full_set.iloc[1]"
   ],
   "metadata": {
    "collapsed": false,
    "pycharm": {
     "name": "#%%\n"
    }
   }
  },
  {
   "cell_type": "code",
   "execution_count": 303,
   "outputs": [
    {
     "data": {
      "text/plain": "'good 1'"
     },
     "execution_count": 303,
     "metadata": {},
     "output_type": "execute_result"
    }
   ],
   "source": [
    "full_set.iloc[1]['folder']"
   ],
   "metadata": {
    "collapsed": false,
    "pycharm": {
     "name": "#%%\n"
    }
   }
  },
  {
   "cell_type": "code",
   "execution_count": 304,
   "outputs": [
    {
     "data": {
      "text/plain": "-0.15"
     },
     "execution_count": 304,
     "metadata": {},
     "output_type": "execute_result"
    }
   ],
   "source": [
    "full_set['steering_angle'][1]"
   ],
   "metadata": {
    "collapsed": false,
    "pycharm": {
     "name": "#%%\n"
    }
   }
  },
  {
   "cell_type": "markdown",
   "source": [
    "# Balance the Dataset"
   ],
   "metadata": {
    "collapsed": false,
    "pycharm": {
     "name": "#%% md\n"
    }
   }
  },
  {
   "cell_type": "code",
   "execution_count": 305,
   "outputs": [],
   "source": [
    "num_bins = 21\n",
    "samples_per_bin = 1000"
   ],
   "metadata": {
    "collapsed": false,
    "pycharm": {
     "name": "#%%\n"
    }
   }
  },
  {
   "cell_type": "code",
   "execution_count": 306,
   "outputs": [],
   "source": [
    "def show_steering_angles(full_set, hist, bins, samples_per_bin):\n",
    "    center = (bins[:-1] + bins[1:]) * 0.5\n",
    "    plt.bar(center, hist, width=0.05)\n",
    "    plt.plot(\n",
    "        (np.min(full_set['steering_angle']), np.max(full_set['steering_angle'])),\n",
    "        (samples_per_bin, samples_per_bin)\n",
    "    )"
   ],
   "metadata": {
    "collapsed": false,
    "pycharm": {
     "name": "#%%\n"
    }
   }
  },
  {
   "cell_type": "code",
   "execution_count": 307,
   "outputs": [
    {
     "data": {
      "text/plain": "<Figure size 640x480 with 1 Axes>",
      "image/png": "[encoded data removed]"
     },
     "metadata": {},
     "output_type": "display_data"
    }
   ],
   "source": [
    "hist, bins = np.histogram(full_set['steering_angle'], num_bins)\n",
    "show_steering_angles(full_set, hist, bins, samples_per_bin)"
   ],
   "metadata": {
    "collapsed": false,
    "pycharm": {
     "name": "#%%\n"
    }
   }
  },
  {
   "cell_type": "code",
   "execution_count": 308,
   "outputs": [
    {
     "name": "stdout",
     "output_type": "stream",
     "text": [
      "total data: 31287\n",
      "removed: 18018\n",
      "remaining: 13269\n"
     ]
    }
   ],
   "source": [
    "print('total data:', len(full_set))\n",
    "remove_list = []\n",
    "\n",
    "for j in range(num_bins):\n",
    "  list_ = []\n",
    "  for i in range(len(full_set['steering_angle'])):\n",
    "    if bins[j] <= full_set['steering_angle'][i] <= bins[j + 1]:\n",
    "      list_.append(i)\n",
    "\n",
    "  random.shuffle(list_)\n",
    "  list_ = list_[samples_per_bin:]\n",
    "  remove_list.extend(list_)\n",
    "\n",
    "print('removed:', len(remove_list))\n",
    "full_set.drop(full_set.index[remove_list], inplace=True)\n",
    "print('remaining:', len(full_set))"
   ],
   "metadata": {
    "collapsed": false,
    "pycharm": {
     "name": "#%%\n"
    }
   }
  },
  {
   "cell_type": "code",
   "execution_count": 309,
   "outputs": [
    {
     "data": {
      "text/plain": "<Figure size 640x480 with 1 Axes>",
      "image/png": "[encoded data removed]"
     },
     "metadata": {},
     "output_type": "display_data"
    }
   ],
   "source": [
    "hist, bins = np.histogram(full_set['steering_angle'], num_bins)\n",
    "show_steering_angles(full_set, hist, bins, samples_per_bin)"
   ],
   "metadata": {
    "collapsed": false,
    "pycharm": {
     "name": "#%%\n"
    }
   }
  },
  {
   "cell_type": "markdown",
   "source": [
    "# Preprocess Dataset"
   ],
   "metadata": {
    "collapsed": false,
    "pycharm": {
     "name": "#%% md\n"
    }
   }
  },
  {
   "cell_type": "code",
   "execution_count": 310,
   "outputs": [],
   "source": [
    "import torchvision.transforms.functional as TF\n",
    "\n",
    "def preprocess(image):\n",
    "    image = TF.crop(image, top=60, left=0, height=80, width=320)\n",
    "    image = TF.resize(image, [128, 128], antialias=True)\n",
    "    return image"
   ],
   "metadata": {
    "collapsed": false,
    "pycharm": {
     "name": "#%%\n"
    }
   }
  },
  {
   "cell_type": "code",
   "execution_count": 311,
   "outputs": [
    {
     "data": {
      "text/plain": "13269"
     },
     "execution_count": 311,
     "metadata": {},
     "output_type": "execute_result"
    }
   ],
   "source": [
    "len(full_set)"
   ],
   "metadata": {
    "collapsed": false,
    "pycharm": {
     "name": "#%%\n"
    }
   }
  },
  {
   "cell_type": "code",
   "execution_count": 331,
   "outputs": [],
   "source": [
    "from torchvision.io import read_image\n",
    "from PIL import Image\n",
    "\n",
    "for index, row in full_set.iterrows():\n",
    "    folder = row['folder']\n",
    "\n",
    "    for image_name in ['center', 'left', 'right']:\n",
    "        image_name = row[image_name]\n",
    "        raw_path = '.\\\\data\\\\raw\\\\' + folder + '\\\\IMG\\\\' + image_name\n",
    "\n",
    "        if not os.path.exists(raw_path):\n",
    "            continue\n",
    "\n",
    "        image = read_image(raw_path)\n",
    "        # print('Original Shape : ', image.shape)\n",
    "        image = preprocess(image)\n",
    "        # print('New Shape : ', image.shape)\n",
    "        # print(image[0, 0, :10])\n",
    "\n",
    "        path = '.\\\\data\\\\preprocessed\\\\{}'.format(image_name)\n",
    "        Image.fromarray(image.numpy().transpose(1, 2, 0)).save(path)"
   ],
   "metadata": {
    "collapsed": false,
    "pycharm": {
     "name": "#%%\n"
    }
   }
  },
  {
   "cell_type": "markdown",
   "source": [
    "# Splitting Dataset"
   ],
   "metadata": {
    "collapsed": false,
    "pycharm": {
     "name": "#%% md\n"
    }
   }
  },
  {
   "cell_type": "code",
   "execution_count": 148,
   "outputs": [],
   "source": [
    "from sklearn.model_selection import train_test_split\n",
    "# 70-20-10 cuts\n",
    "X_train, X_test = train_test_split(full_set, train_size=0.9, shuffle=True)"
   ],
   "metadata": {
    "collapsed": false,
    "pycharm": {
     "name": "#%%\n"
    }
   }
  },
  {
   "cell_type": "code",
   "execution_count": 149,
   "outputs": [
    {
     "data": {
      "text/plain": "(11942, 1327)"
     },
     "execution_count": 149,
     "metadata": {},
     "output_type": "execute_result"
    }
   ],
   "source": [
    "len(X_train), len(X_test)"
   ],
   "metadata": {
    "collapsed": false,
    "pycharm": {
     "name": "#%%\n"
    }
   }
  },
  {
   "cell_type": "code",
   "execution_count": 150,
   "outputs": [
    {
     "data": {
      "text/plain": "<Axes: ylabel='Frequency'>"
     },
     "execution_count": 150,
     "metadata": {},
     "output_type": "execute_result"
    },
    {
     "data": {
      "text/plain": "<Figure size 640x480 with 1 Axes>",
      "image/png": "[encoded data removed]"
     },
     "metadata": {},
     "output_type": "display_data"
    }
   ],
   "source": [
    "X_train['steering_angle'].plot.hist(bins=num_bins)"
   ],
   "metadata": {
    "collapsed": false,
    "pycharm": {
     "name": "#%%\n"
    }
   }
  },
  {
   "cell_type": "code",
   "execution_count": 151,
   "outputs": [
    {
     "data": {
      "text/plain": "<Axes: ylabel='Frequency'>"
     },
     "execution_count": 151,
     "metadata": {},
     "output_type": "execute_result"
    },
    {
     "data": {
      "text/plain": "<Figure size 640x480 with 1 Axes>",
      "image/png": "[encoded data removed]"
     },
     "metadata": {},
     "output_type": "display_data"
    }
   ],
   "source": [
    "X_test['steering_angle'].plot.hist(bins=num_bins)"
   ],
   "metadata": {
    "collapsed": false,
    "pycharm": {
     "name": "#%%\n"
    }
   }
  },
  {
   "cell_type": "code",
   "execution_count": 152,
   "outputs": [
    {
     "data": {
      "text/plain": "                                   center                              left   \n14363  center_2019_04_02_18_10_19_211.jpg  left_2019_04_02_18_10_19_211.jpg  \\\n13133  center_2019_04_02_18_08_53_241.jpg  left_2019_04_02_18_08_53_241.jpg   \n11100  center_2019_04_02_18_06_27_408.jpg  left_2019_04_02_18_06_27_408.jpg   \n28887  center_2019_04_02_18_27_28_821.jpg  left_2019_04_02_18_27_28_821.jpg   \n12145  center_2019_04_02_18_07_44_246.jpg  left_2019_04_02_18_07_44_246.jpg   \n\n                                   right  steering_angle  folder  \n14363  right_2019_04_02_18_10_19_211.jpg           -0.75  good 2  \n13133  right_2019_04_02_18_08_53_241.jpg            0.10  good 2  \n11100  right_2019_04_02_18_06_27_408.jpg           -0.40  good 2  \n28887  right_2019_04_02_18_27_28_821.jpg           -0.90  good 2  \n12145  right_2019_04_02_18_07_44_246.jpg           -1.00  good 2  ",
      "text/html": "<div>\n<style scoped>\n    .dataframe tbody tr th:only-of-type {\n        vertical-align: middle;\n    }\n\n    .dataframe tbody tr th {\n        vertical-align: top;\n    }\n\n    .dataframe thead th {\n        text-align: right;\n    }\n</style>\n<table border=\"1\" class=\"dataframe\">\n  <thead>\n    <tr style=\"text-align: right;\">\n      <th></th>\n      <th>center</th>\n      <th>left</th>\n      <th>right</th>\n      <th>steering_angle</th>\n      <th>folder</th>\n    </tr>\n  </thead>\n  <tbody>\n    <tr>\n      <th>14363</th>\n      <td>center_2019_04_02_18_10_19_211.jpg</td>\n      <td>left_2019_04_02_18_10_19_211.jpg</td>\n      <td>right_2019_04_02_18_10_19_211.jpg</td>\n      <td>-0.75</td>\n      <td>good 2</td>\n    </tr>\n    <tr>\n      <th>13133</th>\n      <td>center_2019_04_02_18_08_53_241.jpg</td>\n      <td>left_2019_04_02_18_08_53_241.jpg</td>\n      <td>right_2019_04_02_18_08_53_241.jpg</td>\n      <td>0.10</td>\n      <td>good 2</td>\n    </tr>\n    <tr>\n      <th>11100</th>\n      <td>center_2019_04_02_18_06_27_408.jpg</td>\n      <td>left_2019_04_02_18_06_27_408.jpg</td>\n      <td>right_2019_04_02_18_06_27_408.jpg</td>\n      <td>-0.40</td>\n      <td>good 2</td>\n    </tr>\n    <tr>\n      <th>28887</th>\n      <td>center_2019_04_02_18_27_28_821.jpg</td>\n      <td>left_2019_04_02_18_27_28_821.jpg</td>\n      <td>right_2019_04_02_18_27_28_821.jpg</td>\n      <td>-0.90</td>\n      <td>good 2</td>\n    </tr>\n    <tr>\n      <th>12145</th>\n      <td>center_2019_04_02_18_07_44_246.jpg</td>\n      <td>left_2019_04_02_18_07_44_246.jpg</td>\n      <td>right_2019_04_02_18_07_44_246.jpg</td>\n      <td>-1.00</td>\n      <td>good 2</td>\n    </tr>\n  </tbody>\n</table>\n</div>"
     },
     "execution_count": 152,
     "metadata": {},
     "output_type": "execute_result"
    }
   ],
   "source": [
    "X_train.head()"
   ],
   "metadata": {
    "collapsed": false,
    "pycharm": {
     "name": "#%%\n"
    }
   }
  },
  {
   "cell_type": "code",
   "execution_count": 153,
   "outputs": [],
   "source": [
    "X_train.to_csv('.\\\\data\\\\driving_train_log.csv', index=False)\n",
    "X_test.to_csv('.\\\\data\\\\driving_test_log.csv', index=False)"
   ],
   "metadata": {
    "collapsed": false,
    "pycharm": {
     "name": "#%%\n"
    }
   }
  },
  {
   "cell_type": "markdown",
   "source": [
    "# Load and Iterate Dataset"
   ],
   "metadata": {
    "collapsed": false,
    "pycharm": {
     "name": "#%% md\n"
    }
   }
  },
  {
   "cell_type": "code",
   "execution_count": 164,
   "outputs": [],
   "source": [
    "from data_module import read_driving_csv\n",
    "X_train = read_driving_csv('.\\\\data\\\\driving_train_log.csv')"
   ],
   "metadata": {
    "collapsed": false,
    "pycharm": {
     "name": "#%%\n"
    }
   }
  },
  {
   "cell_type": "code",
   "execution_count": 165,
   "outputs": [
    {
     "data": {
      "text/plain": "                               center                              left   \n0  center_2019_04_02_18_10_19_211.jpg  left_2019_04_02_18_10_19_211.jpg  \\\n1  center_2019_04_02_18_08_53_241.jpg  left_2019_04_02_18_08_53_241.jpg   \n2  center_2019_04_02_18_06_27_408.jpg  left_2019_04_02_18_06_27_408.jpg   \n3  center_2019_04_02_18_27_28_821.jpg  left_2019_04_02_18_27_28_821.jpg   \n4  center_2019_04_02_18_07_44_246.jpg  left_2019_04_02_18_07_44_246.jpg   \n\n                               right  steering_angle  folder  \n0  right_2019_04_02_18_10_19_211.jpg           -0.75  good 2  \n1  right_2019_04_02_18_08_53_241.jpg            0.10  good 2  \n2  right_2019_04_02_18_06_27_408.jpg           -0.40  good 2  \n3  right_2019_04_02_18_27_28_821.jpg           -0.90  good 2  \n4  right_2019_04_02_18_07_44_246.jpg           -1.00  good 2  ",
      "text/html": "<div>\n<style scoped>\n    .dataframe tbody tr th:only-of-type {\n        vertical-align: middle;\n    }\n\n    .dataframe tbody tr th {\n        vertical-align: top;\n    }\n\n    .dataframe thead th {\n        text-align: right;\n    }\n</style>\n<table border=\"1\" class=\"dataframe\">\n  <thead>\n    <tr style=\"text-align: right;\">\n      <th></th>\n      <th>center</th>\n      <th>left</th>\n      <th>right</th>\n      <th>steering_angle</th>\n      <th>folder</th>\n    </tr>\n  </thead>\n  <tbody>\n    <tr>\n      <th>0</th>\n      <td>center_2019_04_02_18_10_19_211.jpg</td>\n      <td>left_2019_04_02_18_10_19_211.jpg</td>\n      <td>right_2019_04_02_18_10_19_211.jpg</td>\n      <td>-0.75</td>\n      <td>good 2</td>\n    </tr>\n    <tr>\n      <th>1</th>\n      <td>center_2019_04_02_18_08_53_241.jpg</td>\n      <td>left_2019_04_02_18_08_53_241.jpg</td>\n      <td>right_2019_04_02_18_08_53_241.jpg</td>\n      <td>0.10</td>\n      <td>good 2</td>\n    </tr>\n    <tr>\n      <th>2</th>\n      <td>center_2019_04_02_18_06_27_408.jpg</td>\n      <td>left_2019_04_02_18_06_27_408.jpg</td>\n      <td>right_2019_04_02_18_06_27_408.jpg</td>\n      <td>-0.40</td>\n      <td>good 2</td>\n    </tr>\n    <tr>\n      <th>3</th>\n      <td>center_2019_04_02_18_27_28_821.jpg</td>\n      <td>left_2019_04_02_18_27_28_821.jpg</td>\n      <td>right_2019_04_02_18_27_28_821.jpg</td>\n      <td>-0.90</td>\n      <td>good 2</td>\n    </tr>\n    <tr>\n      <th>4</th>\n      <td>center_2019_04_02_18_07_44_246.jpg</td>\n      <td>left_2019_04_02_18_07_44_246.jpg</td>\n      <td>right_2019_04_02_18_07_44_246.jpg</td>\n      <td>-1.00</td>\n      <td>good 2</td>\n    </tr>\n  </tbody>\n</table>\n</div>"
     },
     "execution_count": 165,
     "metadata": {},
     "output_type": "execute_result"
    }
   ],
   "source": [
    "X_train.head()"
   ],
   "metadata": {
    "collapsed": false,
    "pycharm": {
     "name": "#%%\n"
    }
   }
  }
 ],
 "metadata": {
  "kernelspec": {
   "display_name": "Python 3",
   "language": "python",
   "name": "python3"
  },
  "language_info": {
   "codemirror_mode": {
    "name": "ipython",
    "version": 2
   },
   "file_extension": ".py",
   "mimetype": "text/x-python",
   "name": "python",
   "nbconvert_exporter": "python",
   "pygments_lexer": "ipython2",
   "version": "2.7.6"
  }
 },
 "nbformat": 4,
 "nbformat_minor": 0
}