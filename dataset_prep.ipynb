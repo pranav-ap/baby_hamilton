{
 "cells": [
  {
   "cell_type": "code",
   "execution_count": 6,
   "outputs": [],
   "source": [
    "import random, os\n",
    "import numpy as np\n",
    "import pandas as pd\n",
    "import matplotlib.pyplot as plt\n",
    "\n",
    "from utils import preprocess, all_paths_exist"
   ],
   "metadata": {
    "collapsed": false,
    "pycharm": {
     "name": "#%%\n"
    },
    "ExecuteTime": {
     "end_time": "2023-05-14T13:54:13.952137800Z",
     "start_time": "2023-05-14T13:54:13.938244100Z"
    }
   }
  },
  {
   "cell_type": "code",
   "execution_count": 5,
   "outputs": [],
   "source": [
    "# from google.colab import drive\n",
    "# drive.mount('/content/gdrive')"
   ],
   "metadata": {
    "collapsed": false,
    "pycharm": {
     "name": "#%%\n"
    },
    "ExecuteTime": {
     "end_time": "2023-05-11T19:50:33.310683Z",
     "start_time": "2023-05-11T19:50:33.302511100Z"
    }
   }
  },
  {
   "cell_type": "code",
   "execution_count": 2,
   "outputs": [],
   "source": [
    "raw_folders = [\n",
    "    'good 1',\n",
    "    'track 1 normal',\n",
    "    'track 1 normal 2',\n",
    "    'track 1 normal 3',\n",
    "    'track 1 reverse',\n",
    "    'track 1 reverse 2',\n",
    "    'track 1 reverse 3',\n",
    "    'track 1 edges normal 1',\n",
    "]"
   ],
   "metadata": {
    "collapsed": false,
    "pycharm": {
     "name": "#%%\n"
    },
    "ExecuteTime": {
     "end_time": "2023-05-14T13:53:43.231712200Z",
     "start_time": "2023-05-14T13:53:43.227605600Z"
    }
   }
  },
  {
   "cell_type": "code",
   "execution_count": 3,
   "outputs": [],
   "source": [
    "def extract_file_name(path):\n",
    "    return path.split('\\\\')[-1]\n",
    "\n",
    "\n",
    "def read_raw_driving_csv(folder: str):\n",
    "    csv_path = '.\\\\data\\\\raw\\\\{0}\\\\driving_log.csv'.format(folder)\n",
    "\n",
    "    with open(csv_path, 'r') as f:\n",
    "        csv = pd.read_csv(\n",
    "            csv_path,\n",
    "            header=None,\n",
    "            names=['center', 'left', 'right', 'steering_angle'],\n",
    "            usecols=[0, 1, 2, 3],\n",
    "            converters={\n",
    "                'center': lambda x: extract_file_name(x),\n",
    "                'left': lambda x: extract_file_name(x),\n",
    "                'right': lambda x: extract_file_name(x)\n",
    "            }\n",
    "        )\n",
    "\n",
    "        return csv"
   ],
   "metadata": {
    "collapsed": false,
    "ExecuteTime": {
     "end_time": "2023-05-14T13:53:48.733883400Z",
     "start_time": "2023-05-14T13:53:48.721031700Z"
    }
   }
  },
  {
   "cell_type": "code",
   "execution_count": 4,
   "outputs": [],
   "source": [
    "def remove_non_triple_images(raw_folders):\n",
    "    for folder in raw_folders:\n",
    "        remove_indexes = []\n",
    "        print('-- Checking {0}'.format(folder))\n",
    "\n",
    "        df = read_raw_driving_csv(folder)\n",
    "        print('DF Before: ', len(df))\n",
    "\n",
    "        for index, row in df.iterrows():\n",
    "            center = '.\\\\data\\\\raw\\\\{0}\\\\IMG\\\\{1}'.format(folder, row['center'])\n",
    "            left = '.\\\\data\\\\raw\\\\{0}\\\\IMG\\\\{1}'.format(folder, row['left'])\n",
    "            right = '.\\\\data\\\\raw\\\\{0}\\\\IMG\\\\{1}'.format(folder, row['right'])\n",
    "\n",
    "            # if an image does not exist, remove all images from the same row\n",
    "            if not all_paths_exist([center, left, right]):\n",
    "                for path in [center, left, right]:\n",
    "                    if os.path.exists(path):\n",
    "                        os.remove(path)\n",
    "\n",
    "                remove_indexes.append(index)\n",
    "\n",
    "        df.drop(index=df.index[remove_indexes], inplace=True)\n",
    "        print('DF After : ', len(df))\n",
    "\n",
    "        csv_path = '.\\\\data\\\\raw\\\\{0}\\\\driving_log.csv'.format(folder)\n",
    "        df.to_csv(csv_path, index=False, header=False)"
   ],
   "metadata": {
    "collapsed": false,
    "pycharm": {
     "name": "#%%\n"
    },
    "ExecuteTime": {
     "end_time": "2023-05-14T13:53:51.080287100Z",
     "start_time": "2023-05-14T13:53:51.066417300Z"
    }
   }
  },
  {
   "cell_type": "code",
   "execution_count": 7,
   "outputs": [
    {
     "name": "stdout",
     "output_type": "stream",
     "text": [
      "-- Checking good 1\n",
      "DF Before:  10405\n",
      "DF After :  10405\n",
      "-- Checking track 1 normal\n",
      "DF Before:  2194\n",
      "DF After :  2194\n",
      "-- Checking track 1 normal 2\n",
      "DF Before:  1996\n",
      "DF After :  1996\n",
      "-- Checking track 1 normal 3\n",
      "DF Before:  9305\n",
      "DF After :  9305\n",
      "-- Checking track 1 reverse\n",
      "DF Before:  2934\n",
      "DF After :  2934\n",
      "-- Checking track 1 reverse 2\n",
      "DF Before:  6948\n",
      "DF After :  6948\n",
      "-- Checking track 1 reverse 3\n",
      "DF Before:  5462\n",
      "DF After :  5462\n",
      "-- Checking track 1 edges normal 1\n",
      "DF Before:  6717\n",
      "DF After :  2756\n"
     ]
    }
   ],
   "source": [
    "remove_non_triple_images(raw_folders)"
   ],
   "metadata": {
    "collapsed": false,
    "pycharm": {
     "name": "#%%\n"
    },
    "ExecuteTime": {
     "end_time": "2023-05-14T13:54:25.973244200Z",
     "start_time": "2023-05-14T13:54:18.630334200Z"
    }
   }
  },
  {
   "cell_type": "markdown",
   "source": [
    "# Load and Visualize Dataset"
   ],
   "metadata": {
    "collapsed": false,
    "pycharm": {
     "name": "#%% md\n"
    }
   }
  },
  {
   "cell_type": "code",
   "execution_count": 8,
   "outputs": [],
   "source": [
    "full_set = pd.DataFrame()\n",
    "\n",
    "for folder in raw_folders:\n",
    "    df = read_raw_driving_csv(folder)\n",
    "    df['folder'] = folder\n",
    "    full_set = pd.concat([full_set, df], ignore_index=True)"
   ],
   "metadata": {
    "collapsed": false,
    "pycharm": {
     "name": "#%%\n"
    },
    "ExecuteTime": {
     "end_time": "2023-05-14T13:54:57.900421Z",
     "start_time": "2023-05-14T13:54:57.794539100Z"
    }
   }
  },
  {
   "cell_type": "code",
   "execution_count": 9,
   "outputs": [
    {
     "data": {
      "text/plain": "center             object\nleft               object\nright              object\nsteering_angle    float64\nfolder             object\ndtype: object"
     },
     "execution_count": 9,
     "metadata": {},
     "output_type": "execute_result"
    }
   ],
   "source": [
    "full_set.dtypes"
   ],
   "metadata": {
    "collapsed": false,
    "pycharm": {
     "name": "#%%\n"
    },
    "ExecuteTime": {
     "end_time": "2023-05-14T13:54:59.222523800Z",
     "start_time": "2023-05-14T13:54:59.202916300Z"
    }
   }
  },
  {
   "cell_type": "code",
   "execution_count": 10,
   "outputs": [
    {
     "data": {
      "text/plain": "                               center                              left  \\\n0  center_2019_04_02_19_25_35_023.jpg  left_2019_04_02_19_25_35_023.jpg   \n1  center_2019_04_02_19_25_35_092.jpg  left_2019_04_02_19_25_35_092.jpg   \n2  center_2019_04_02_19_25_35_164.jpg  left_2019_04_02_19_25_35_164.jpg   \n3  center_2019_04_02_19_25_35_232.jpg  left_2019_04_02_19_25_35_232.jpg   \n4  center_2019_04_02_19_25_35_303.jpg  left_2019_04_02_19_25_35_303.jpg   \n\n                               right  steering_angle  folder  \n0  right_2019_04_02_19_25_35_023.jpg            0.00  good 1  \n1  right_2019_04_02_19_25_35_092.jpg           -0.15  good 1  \n2  right_2019_04_02_19_25_35_164.jpg            0.00  good 1  \n3  right_2019_04_02_19_25_35_232.jpg            0.00  good 1  \n4  right_2019_04_02_19_25_35_303.jpg            0.00  good 1  ",
      "text/html": "<div>\n<style scoped>\n    .dataframe tbody tr th:only-of-type {\n        vertical-align: middle;\n    }\n\n    .dataframe tbody tr th {\n        vertical-align: top;\n    }\n\n    .dataframe thead th {\n        text-align: right;\n    }\n</style>\n<table border=\"1\" class=\"dataframe\">\n  <thead>\n    <tr style=\"text-align: right;\">\n      <th></th>\n      <th>center</th>\n      <th>left</th>\n      <th>right</th>\n      <th>steering_angle</th>\n      <th>folder</th>\n    </tr>\n  </thead>\n  <tbody>\n    <tr>\n      <th>0</th>\n      <td>center_2019_04_02_19_25_35_023.jpg</td>\n      <td>left_2019_04_02_19_25_35_023.jpg</td>\n      <td>right_2019_04_02_19_25_35_023.jpg</td>\n      <td>0.00</td>\n      <td>good 1</td>\n    </tr>\n    <tr>\n      <th>1</th>\n      <td>center_2019_04_02_19_25_35_092.jpg</td>\n      <td>left_2019_04_02_19_25_35_092.jpg</td>\n      <td>right_2019_04_02_19_25_35_092.jpg</td>\n      <td>-0.15</td>\n      <td>good 1</td>\n    </tr>\n    <tr>\n      <th>2</th>\n      <td>center_2019_04_02_19_25_35_164.jpg</td>\n      <td>left_2019_04_02_19_25_35_164.jpg</td>\n      <td>right_2019_04_02_19_25_35_164.jpg</td>\n      <td>0.00</td>\n      <td>good 1</td>\n    </tr>\n    <tr>\n      <th>3</th>\n      <td>center_2019_04_02_19_25_35_232.jpg</td>\n      <td>left_2019_04_02_19_25_35_232.jpg</td>\n      <td>right_2019_04_02_19_25_35_232.jpg</td>\n      <td>0.00</td>\n      <td>good 1</td>\n    </tr>\n    <tr>\n      <th>4</th>\n      <td>center_2019_04_02_19_25_35_303.jpg</td>\n      <td>left_2019_04_02_19_25_35_303.jpg</td>\n      <td>right_2019_04_02_19_25_35_303.jpg</td>\n      <td>0.00</td>\n      <td>good 1</td>\n    </tr>\n  </tbody>\n</table>\n</div>"
     },
     "execution_count": 10,
     "metadata": {},
     "output_type": "execute_result"
    }
   ],
   "source": [
    "full_set.head()"
   ],
   "metadata": {
    "collapsed": false,
    "pycharm": {
     "name": "#%%\n"
    },
    "ExecuteTime": {
     "end_time": "2023-05-14T13:55:02.380219400Z",
     "start_time": "2023-05-14T13:55:02.356079600Z"
    }
   }
  },
  {
   "cell_type": "code",
   "execution_count": 11,
   "outputs": [
    {
     "data": {
      "text/plain": "center            center_2019_04_02_19_25_35_092.jpg\nleft                left_2019_04_02_19_25_35_092.jpg\nright              right_2019_04_02_19_25_35_092.jpg\nsteering_angle                                 -0.15\nfolder                                        good 1\nName: 1, dtype: object"
     },
     "execution_count": 11,
     "metadata": {},
     "output_type": "execute_result"
    }
   ],
   "source": [
    "full_set.iloc[1]"
   ],
   "metadata": {
    "collapsed": false,
    "pycharm": {
     "name": "#%%\n"
    },
    "ExecuteTime": {
     "end_time": "2023-05-14T13:55:09.282849800Z",
     "start_time": "2023-05-14T13:55:09.270341900Z"
    }
   }
  },
  {
   "cell_type": "code",
   "execution_count": 12,
   "outputs": [
    {
     "data": {
      "text/plain": "'good 1'"
     },
     "execution_count": 12,
     "metadata": {},
     "output_type": "execute_result"
    }
   ],
   "source": [
    "full_set.iloc[1]['folder']"
   ],
   "metadata": {
    "collapsed": false,
    "pycharm": {
     "name": "#%%\n"
    },
    "ExecuteTime": {
     "end_time": "2023-05-14T13:55:11.503529100Z",
     "start_time": "2023-05-14T13:55:11.487407300Z"
    }
   }
  },
  {
   "cell_type": "code",
   "execution_count": 14,
   "outputs": [
    {
     "data": {
      "text/plain": "-0.15"
     },
     "execution_count": 14,
     "metadata": {},
     "output_type": "execute_result"
    }
   ],
   "source": [
    "full_set['steering_angle'][1]"
   ],
   "metadata": {
    "collapsed": false,
    "pycharm": {
     "name": "#%%\n"
    },
    "ExecuteTime": {
     "end_time": "2023-05-14T13:55:15.573488Z",
     "start_time": "2023-05-14T13:55:15.552756400Z"
    }
   }
  },
  {
   "cell_type": "markdown",
   "source": [
    "# Balance the Dataset"
   ],
   "metadata": {
    "collapsed": false,
    "pycharm": {
     "name": "#%% md\n"
    }
   }
  },
  {
   "cell_type": "code",
   "execution_count": 15,
   "outputs": [],
   "source": [
    "num_bins = 21\n",
    "samples_per_bin = 2500"
   ],
   "metadata": {
    "collapsed": false,
    "pycharm": {
     "name": "#%%\n"
    },
    "ExecuteTime": {
     "end_time": "2023-05-14T13:55:19.308206500Z",
     "start_time": "2023-05-14T13:55:19.294692500Z"
    }
   }
  },
  {
   "cell_type": "code",
   "execution_count": 16,
   "outputs": [],
   "source": [
    "def show_steering_angles(full_set, hist, bins, samples_per_bin):\n",
    "    center = (bins[:-1] + bins[1:]) * 0.5\n",
    "    plt.bar(center, hist, width=0.05)\n",
    "    plt.plot(\n",
    "        (np.min(full_set['steering_angle']), np.max(full_set['steering_angle'])),\n",
    "        (samples_per_bin, samples_per_bin)\n",
    "    )"
   ],
   "metadata": {
    "collapsed": false,
    "pycharm": {
     "name": "#%%\n"
    },
    "ExecuteTime": {
     "end_time": "2023-05-14T13:55:21.412572Z",
     "start_time": "2023-05-14T13:55:21.391546200Z"
    }
   }
  },
  {
   "cell_type": "code",
   "execution_count": 17,
   "outputs": [
    {
     "data": {
      "text/plain": "<Figure size 640x480 with 1 Axes>",
      "image/png": "[encoded data removed]"
     },
     "metadata": {},
     "output_type": "display_data"
    }
   ],
   "source": [
    "hist, bins = np.histogram(full_set['steering_angle'], num_bins)\n",
    "show_steering_angles(full_set, hist, bins, samples_per_bin)"
   ],
   "metadata": {
    "collapsed": false,
    "pycharm": {
     "name": "#%%\n"
    },
    "ExecuteTime": {
     "end_time": "2023-05-14T13:55:23.481853500Z",
     "start_time": "2023-05-14T13:55:23.334200100Z"
    }
   }
  },
  {
   "cell_type": "code",
   "execution_count": 18,
   "outputs": [
    {
     "name": "stdout",
     "output_type": "stream",
     "text": [
      "total data: 42000\n",
      "removed: 26480\n",
      "remaining: 15520\n"
     ]
    }
   ],
   "source": [
    "print('total data:', len(full_set))\n",
    "remove_list = []\n",
    "\n",
    "for j in range(num_bins):\n",
    "  list_ = []\n",
    "  for i in range(len(full_set['steering_angle'])):\n",
    "    if bins[j] <= full_set['steering_angle'][i] <= bins[j + 1]:\n",
    "      list_.append(i)\n",
    "\n",
    "  random.shuffle(list_)\n",
    "  list_ = list_[samples_per_bin:]\n",
    "  remove_list.extend(list_)\n",
    "\n",
    "print('removed:', len(remove_list))\n",
    "full_set.drop(full_set.index[remove_list], inplace=True)\n",
    "print('remaining:', len(full_set))"
   ],
   "metadata": {
    "collapsed": false,
    "pycharm": {
     "name": "#%%\n"
    },
    "ExecuteTime": {
     "end_time": "2023-05-14T13:55:43.626194600Z",
     "start_time": "2023-05-14T13:55:39.572739700Z"
    }
   }
  },
  {
   "cell_type": "code",
   "execution_count": 19,
   "outputs": [
    {
     "data": {
      "text/plain": "<Figure size 640x480 with 1 Axes>",
      "image/png": "[encoded data removed]"
     },
     "metadata": {},
     "output_type": "display_data"
    }
   ],
   "source": [
    "hist, bins = np.histogram(full_set['steering_angle'], num_bins)\n",
    "show_steering_angles(full_set, hist, bins, samples_per_bin)"
   ],
   "metadata": {
    "collapsed": false,
    "pycharm": {
     "name": "#%%\n"
    },
    "ExecuteTime": {
     "end_time": "2023-05-14T13:55:47.792352Z",
     "start_time": "2023-05-14T13:55:47.676469500Z"
    }
   }
  },
  {
   "cell_type": "markdown",
   "source": [
    "# Split the CSV"
   ],
   "metadata": {
    "collapsed": false,
    "pycharm": {
     "name": "#%% md\n"
    }
   }
  },
  {
   "cell_type": "code",
   "execution_count": 20,
   "outputs": [],
   "source": [
    "from sklearn.model_selection import train_test_split\n",
    "X_train, X_test = train_test_split(full_set, train_size=0.9, shuffle=True)"
   ],
   "metadata": {
    "collapsed": false,
    "pycharm": {
     "name": "#%%\n"
    },
    "ExecuteTime": {
     "end_time": "2023-05-14T13:56:00.125691500Z",
     "start_time": "2023-05-14T13:55:59.218968400Z"
    }
   }
  },
  {
   "cell_type": "code",
   "execution_count": 21,
   "outputs": [
    {
     "data": {
      "text/plain": "(15520, 13968, 1552)"
     },
     "execution_count": 21,
     "metadata": {},
     "output_type": "execute_result"
    }
   ],
   "source": [
    "len(full_set), len(X_train), len(X_test)"
   ],
   "metadata": {
    "collapsed": false,
    "pycharm": {
     "name": "#%%\n"
    },
    "ExecuteTime": {
     "end_time": "2023-05-14T13:56:01.264814500Z",
     "start_time": "2023-05-14T13:56:01.254292100Z"
    }
   }
  },
  {
   "cell_type": "code",
   "execution_count": 22,
   "outputs": [
    {
     "data": {
      "text/plain": "<Figure size 640x480 with 1 Axes>",
      "image/png": "[encoded data removed]"
     },
     "metadata": {},
     "output_type": "display_data"
    }
   ],
   "source": [
    "show_steering_angles(X_train, hist, bins, samples_per_bin)"
   ],
   "metadata": {
    "collapsed": false,
    "pycharm": {
     "name": "#%%\n"
    },
    "ExecuteTime": {
     "end_time": "2023-05-14T13:56:05.380091Z",
     "start_time": "2023-05-14T13:56:05.156341900Z"
    }
   }
  },
  {
   "cell_type": "code",
   "execution_count": 23,
   "outputs": [
    {
     "data": {
      "text/plain": "<Figure size 640x480 with 1 Axes>",
      "image/png": "[encoded data removed]"
     },
     "metadata": {},
     "output_type": "display_data"
    }
   ],
   "source": [
    "show_steering_angles(X_test, hist, bins, samples_per_bin)"
   ],
   "metadata": {
    "collapsed": false,
    "pycharm": {
     "name": "#%%\n"
    },
    "ExecuteTime": {
     "end_time": "2023-05-14T13:56:08.290377500Z",
     "start_time": "2023-05-14T13:56:08.170801300Z"
    }
   }
  },
  {
   "cell_type": "code",
   "execution_count": 24,
   "outputs": [
    {
     "data": {
      "text/plain": "                                   center                              left  \\\n2967   center_2019_04_02_19_29_06_740.jpg  left_2019_04_02_19_29_06_740.jpg   \n38169  center_2023_05_10_18_46_55_492.jpg  left_2023_05_10_18_46_55_492.jpg   \n33648  center_2023_05_10_17_51_07_130.jpg  left_2023_05_10_17_51_07_130.jpg   \n21956  center_2023_05_10_12_16_24_152.jpg  left_2023_05_10_12_16_24_152.jpg   \n18554  center_2023_05_10_12_10_33_240.jpg  left_2023_05_10_12_10_33_240.jpg   \n\n                                   right  steering_angle             folder  \n2967   right_2019_04_02_19_29_06_740.jpg       -0.450000             good 1  \n38169  right_2023_05_10_18_46_55_492.jpg        0.304202  track 1 reverse 3  \n33648  right_2023_05_10_17_51_07_130.jpg        0.158494  track 1 reverse 2  \n21956  right_2023_05_10_12_16_24_152.jpg        0.000000   track 1 normal 3  \n18554  right_2023_05_10_12_10_33_240.jpg       -0.310496   track 1 normal 3  ",
      "text/html": "<div>\n<style scoped>\n    .dataframe tbody tr th:only-of-type {\n        vertical-align: middle;\n    }\n\n    .dataframe tbody tr th {\n        vertical-align: top;\n    }\n\n    .dataframe thead th {\n        text-align: right;\n    }\n</style>\n<table border=\"1\" class=\"dataframe\">\n  <thead>\n    <tr style=\"text-align: right;\">\n      <th></th>\n      <th>center</th>\n      <th>left</th>\n      <th>right</th>\n      <th>steering_angle</th>\n      <th>folder</th>\n    </tr>\n  </thead>\n  <tbody>\n    <tr>\n      <th>2967</th>\n      <td>center_2019_04_02_19_29_06_740.jpg</td>\n      <td>left_2019_04_02_19_29_06_740.jpg</td>\n      <td>right_2019_04_02_19_29_06_740.jpg</td>\n      <td>-0.450000</td>\n      <td>good 1</td>\n    </tr>\n    <tr>\n      <th>38169</th>\n      <td>center_2023_05_10_18_46_55_492.jpg</td>\n      <td>left_2023_05_10_18_46_55_492.jpg</td>\n      <td>right_2023_05_10_18_46_55_492.jpg</td>\n      <td>0.304202</td>\n      <td>track 1 reverse 3</td>\n    </tr>\n    <tr>\n      <th>33648</th>\n      <td>center_2023_05_10_17_51_07_130.jpg</td>\n      <td>left_2023_05_10_17_51_07_130.jpg</td>\n      <td>right_2023_05_10_17_51_07_130.jpg</td>\n      <td>0.158494</td>\n      <td>track 1 reverse 2</td>\n    </tr>\n    <tr>\n      <th>21956</th>\n      <td>center_2023_05_10_12_16_24_152.jpg</td>\n      <td>left_2023_05_10_12_16_24_152.jpg</td>\n      <td>right_2023_05_10_12_16_24_152.jpg</td>\n      <td>0.000000</td>\n      <td>track 1 normal 3</td>\n    </tr>\n    <tr>\n      <th>18554</th>\n      <td>center_2023_05_10_12_10_33_240.jpg</td>\n      <td>left_2023_05_10_12_10_33_240.jpg</td>\n      <td>right_2023_05_10_12_10_33_240.jpg</td>\n      <td>-0.310496</td>\n      <td>track 1 normal 3</td>\n    </tr>\n  </tbody>\n</table>\n</div>"
     },
     "execution_count": 24,
     "metadata": {},
     "output_type": "execute_result"
    }
   ],
   "source": [
    "X_train.head()"
   ],
   "metadata": {
    "collapsed": false,
    "pycharm": {
     "name": "#%%\n"
    },
    "ExecuteTime": {
     "end_time": "2023-05-14T13:57:04.421886500Z",
     "start_time": "2023-05-14T13:57:04.362382Z"
    }
   }
  },
  {
   "cell_type": "markdown",
   "source": [
    "# Preprocess Images"
   ],
   "metadata": {
    "collapsed": false,
    "pycharm": {
     "name": "#%% md\n"
    }
   }
  },
  {
   "cell_type": "code",
   "execution_count": 25,
   "outputs": [],
   "source": [
    "import shutil\n",
    "\n",
    "def clear_folder(folder):\n",
    "    for files in os.listdir(folder):\n",
    "        path = os.path.join(folder, files)\n",
    "        try:\n",
    "            shutil.rmtree(path)\n",
    "        except OSError:\n",
    "            os.remove(path)\n"
   ],
   "metadata": {
    "collapsed": false,
    "pycharm": {
     "name": "#%%\n"
    },
    "ExecuteTime": {
     "end_time": "2023-05-14T13:57:22.133012700Z",
     "start_time": "2023-05-14T13:57:22.097384300Z"
    }
   }
  },
  {
   "cell_type": "code",
   "execution_count": 26,
   "outputs": [],
   "source": [
    "from torchvision.io import read_image\n",
    "from PIL import Image\n",
    "\n",
    "PREPROCESSED_FOLDER = '.\\\\data\\\\preprocessed\\\\'\n",
    "\n",
    "def preprocess_and_store_images(df, stage):\n",
    "    clear_folder(PREPROCESSED_FOLDER + stage)\n",
    "\n",
    "    for index, row in df.iterrows():\n",
    "        folder = row['folder']\n",
    "\n",
    "        for image_name in ['center', 'left', 'right']:\n",
    "            image_name = row[image_name]\n",
    "            raw_path = '.\\\\data\\\\raw\\\\' + folder + '\\\\IMG\\\\' + image_name\n",
    "\n",
    "            if not os.path.exists(raw_path):\n",
    "                continue\n",
    "\n",
    "            image = read_image(raw_path)\n",
    "            image = preprocess(image)\n",
    "\n",
    "            path = '{}\\\\{}\\\\{}'.format(PREPROCESSED_FOLDER, stage, image_name)\n",
    "            Image.fromarray(image.numpy().transpose(1, 2, 0)).save(path)"
   ],
   "metadata": {
    "collapsed": false,
    "pycharm": {
     "name": "#%%\n"
    },
    "ExecuteTime": {
     "end_time": "2023-05-14T13:57:29.151983400Z",
     "start_time": "2023-05-14T13:57:29.123668600Z"
    }
   }
  },
  {
   "cell_type": "code",
   "execution_count": 27,
   "outputs": [],
   "source": [
    "preprocess_and_store_images(X_train, 'train')\n",
    "preprocess_and_store_images(X_test, 'test')"
   ],
   "metadata": {
    "collapsed": false,
    "pycharm": {
     "name": "#%%\n"
    },
    "ExecuteTime": {
     "end_time": "2023-05-14T13:59:51.506989600Z",
     "start_time": "2023-05-14T13:57:32.697037300Z"
    }
   }
  },
  {
   "cell_type": "code",
   "execution_count": 28,
   "outputs": [
    {
     "data": {
      "text/plain": "(13968, 41904, 41904)"
     },
     "execution_count": 28,
     "metadata": {},
     "output_type": "execute_result"
    }
   ],
   "source": [
    "# compare left, center, right images count\n",
    "len(X_train), len(X_train) * 3, len(os.listdir('.\\\\data\\\\preprocessed\\\\train'))"
   ],
   "metadata": {
    "collapsed": false,
    "ExecuteTime": {
     "end_time": "2023-05-14T14:01:16.757023900Z",
     "start_time": "2023-05-14T14:01:16.701038300Z"
    }
   }
  },
  {
   "cell_type": "code",
   "execution_count": 29,
   "outputs": [
    {
     "data": {
      "text/plain": "(1552, 4656, 4656)"
     },
     "execution_count": 29,
     "metadata": {},
     "output_type": "execute_result"
    }
   ],
   "source": [
    "len(X_test), len(X_test) * 3, len(os.listdir('.\\\\data\\\\preprocessed\\\\test'))"
   ],
   "metadata": {
    "collapsed": false,
    "ExecuteTime": {
     "end_time": "2023-05-14T14:01:19.366163Z",
     "start_time": "2023-05-14T14:01:19.318548800Z"
    }
   }
  },
  {
   "cell_type": "markdown",
   "source": [
    "# Save CSV"
   ],
   "metadata": {
    "collapsed": false,
    "pycharm": {
     "name": "#%% md\n"
    }
   }
  },
  {
   "cell_type": "code",
   "execution_count": 30,
   "outputs": [],
   "source": [
    "X_train.to_csv(\n",
    "    '.\\\\data\\\\preprocessed\\\\driving_train_log.csv',\n",
    "    index=False,\n",
    "    columns=['center', 'left', 'right', 'steering_angle']\n",
    ")\n",
    "\n",
    "X_test.to_csv(\n",
    "    '.\\\\data\\\\preprocessed\\\\driving_test_log.csv',\n",
    "    index=False,\n",
    "    columns=['center', 'left', 'right', 'steering_angle']\n",
    ")"
   ],
   "metadata": {
    "collapsed": false,
    "pycharm": {
     "name": "#%%\n"
    },
    "ExecuteTime": {
     "end_time": "2023-05-14T14:02:22.016869200Z",
     "start_time": "2023-05-14T14:02:21.949949500Z"
    }
   }
  }
 ],
 "metadata": {
  "kernelspec": {
   "display_name": "Python 3",
   "language": "python",
   "name": "python3"
  },
  "language_info": {
   "codemirror_mode": {
    "name": "ipython",
    "version": 2
   },
   "file_extension": ".py",
   "mimetype": "text/x-python",
   "name": "python",
   "nbconvert_exporter": "python",
   "pygments_lexer": "ipython2",
   "version": "2.7.6"
  }
 },
 "nbformat": 4,
 "nbformat_minor": 0
}
