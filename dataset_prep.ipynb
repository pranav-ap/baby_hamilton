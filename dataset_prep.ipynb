{
 "cells": [
  {
   "cell_type": "code",
   "execution_count": 21,
   "outputs": [],
   "source": [
    "import random, os\n",
    "import numpy as np\n",
    "import pandas as pd\n",
    "import matplotlib.pyplot as plt\n",
    "\n",
    "from utils import preprocess, all_paths_exist"
   ],
   "metadata": {
    "collapsed": false,
    "pycharm": {
     "name": "#%%\n"
    },
    "ExecuteTime": {
     "end_time": "2023-05-16T16:01:31.358888700Z",
     "start_time": "2023-05-16T16:01:31.268953200Z"
    }
   }
  },
  {
   "cell_type": "code",
   "execution_count": 22,
   "outputs": [],
   "source": [
    "raw_folders = [\n",
    "    'good 1',\n",
    "    'track 1 normal',\n",
    "    'track 1 normal 2',\n",
    "    'track 1 normal 3',\n",
    "    'track 1 reverse',\n",
    "    'track 1 reverse 2',\n",
    "    'track 1 reverse 3',\n",
    "    'track 1 edges normal 1',\n",
    "]"
   ],
   "metadata": {
    "collapsed": false,
    "pycharm": {
     "name": "#%%\n"
    },
    "ExecuteTime": {
     "end_time": "2023-05-16T16:01:31.424087800Z",
     "start_time": "2023-05-16T16:01:31.286496Z"
    }
   }
  },
  {
   "cell_type": "code",
   "execution_count": 23,
   "outputs": [],
   "source": [
    "def extract_file_name(path):\n",
    "    return path.split('\\\\')[-1]\n",
    "\n",
    "\n",
    "def read_raw_driving_csv(folder: str):\n",
    "    csv_path = '.\\\\data\\\\raw\\\\{0}\\\\driving_log.csv'.format(folder)\n",
    "\n",
    "    with open(csv_path, 'r') as f:\n",
    "        csv = pd.read_csv(\n",
    "            csv_path,\n",
    "            header=None,\n",
    "            names=['center', 'left', 'right', 'steering_angle'],\n",
    "            usecols=[0, 1, 2, 3],\n",
    "            converters={\n",
    "                'center': lambda x: extract_file_name(x),\n",
    "                'left': lambda x: extract_file_name(x),\n",
    "                'right': lambda x: extract_file_name(x)\n",
    "            }\n",
    "        )\n",
    "\n",
    "        return csv"
   ],
   "metadata": {
    "collapsed": false,
    "ExecuteTime": {
     "end_time": "2023-05-16T16:01:31.424087800Z",
     "start_time": "2023-05-16T16:01:31.304086900Z"
    }
   }
  },
  {
   "cell_type": "code",
   "execution_count": 24,
   "outputs": [],
   "source": [
    "def remove_non_triple_images(raw_folders):\n",
    "    for folder in raw_folders:\n",
    "        remove_indexes = []\n",
    "        print('-- Checking {0}'.format(folder))\n",
    "\n",
    "        df = read_raw_driving_csv(folder)\n",
    "        print('DF Before: ', len(df))\n",
    "\n",
    "        for index, row in df.iterrows():\n",
    "            center = '.\\\\data\\\\raw\\\\{0}\\\\IMG\\\\{1}'.format(folder, row['center'])\n",
    "            left = '.\\\\data\\\\raw\\\\{0}\\\\IMG\\\\{1}'.format(folder, row['left'])\n",
    "            right = '.\\\\data\\\\raw\\\\{0}\\\\IMG\\\\{1}'.format(folder, row['right'])\n",
    "\n",
    "            # if an image does not exist, remove all images from the same row\n",
    "            if not all_paths_exist([center, left, right]):\n",
    "                for path in [center, left, right]:\n",
    "                    if os.path.exists(path):\n",
    "                        os.remove(path)\n",
    "\n",
    "                remove_indexes.append(index)\n",
    "\n",
    "        df.drop(index=df.index[remove_indexes], inplace=True)\n",
    "        print('DF After : ', len(df))\n",
    "\n",
    "        csv_path = '.\\\\data\\\\raw\\\\{0}\\\\driving_log.csv'.format(folder)\n",
    "        df.to_csv(csv_path, index=False, header=False)"
   ],
   "metadata": {
    "collapsed": false,
    "pycharm": {
     "name": "#%%\n"
    },
    "ExecuteTime": {
     "end_time": "2023-05-16T16:01:31.445133400Z",
     "start_time": "2023-05-16T16:01:31.315593900Z"
    }
   }
  },
  {
   "cell_type": "code",
   "execution_count": 25,
   "outputs": [
    {
     "name": "stdout",
     "output_type": "stream",
     "text": [
      "-- Checking good 1\n",
      "DF Before:  10405\n",
      "DF After :  10405\n",
      "-- Checking track 1 normal\n",
      "DF Before:  2194\n",
      "DF After :  2194\n",
      "-- Checking track 1 normal 2\n",
      "DF Before:  1996\n",
      "DF After :  1996\n",
      "-- Checking track 1 normal 3\n",
      "DF Before:  9305\n",
      "DF After :  9305\n",
      "-- Checking track 1 reverse\n",
      "DF Before:  2934\n",
      "DF After :  2934\n",
      "-- Checking track 1 reverse 2\n",
      "DF Before:  6948\n",
      "DF After :  6948\n",
      "-- Checking track 1 reverse 3\n",
      "DF Before:  5462\n",
      "DF After :  5462\n",
      "-- Checking track 1 edges normal 1\n",
      "DF Before:  1756\n",
      "DF After :  1756\n"
     ]
    }
   ],
   "source": [
    "remove_non_triple_images(raw_folders)"
   ],
   "metadata": {
    "collapsed": false,
    "pycharm": {
     "name": "#%%\n"
    },
    "ExecuteTime": {
     "end_time": "2023-05-16T16:01:37.465076600Z",
     "start_time": "2023-05-16T16:01:31.334815200Z"
    }
   }
  },
  {
   "cell_type": "markdown",
   "source": [
    "# Load and Visualize Dataset"
   ],
   "metadata": {
    "collapsed": false,
    "pycharm": {
     "name": "#%% md\n"
    }
   }
  },
  {
   "cell_type": "code",
   "execution_count": 26,
   "outputs": [],
   "source": [
    "full_set = pd.DataFrame()\n",
    "\n",
    "for folder in raw_folders:\n",
    "    df = read_raw_driving_csv(folder)\n",
    "    df['folder'] = folder\n",
    "    full_set = pd.concat([full_set, df], ignore_index=True)"
   ],
   "metadata": {
    "collapsed": false,
    "pycharm": {
     "name": "#%%\n"
    },
    "ExecuteTime": {
     "end_time": "2023-05-16T16:01:37.610590300Z",
     "start_time": "2023-05-16T16:01:37.466078300Z"
    }
   }
  },
  {
   "cell_type": "code",
   "execution_count": 27,
   "outputs": [
    {
     "data": {
      "text/plain": "center             object\nleft               object\nright              object\nsteering_angle    float64\nfolder             object\ndtype: object"
     },
     "execution_count": 27,
     "metadata": {},
     "output_type": "execute_result"
    }
   ],
   "source": [
    "full_set.dtypes"
   ],
   "metadata": {
    "collapsed": false,
    "pycharm": {
     "name": "#%%\n"
    },
    "ExecuteTime": {
     "end_time": "2023-05-16T16:01:37.623737800Z",
     "start_time": "2023-05-16T16:01:37.609078100Z"
    }
   }
  },
  {
   "cell_type": "code",
   "execution_count": 28,
   "outputs": [
    {
     "data": {
      "text/plain": "                               center                              left  \\\n0  center_2019_04_02_19_25_35_023.jpg  left_2019_04_02_19_25_35_023.jpg   \n1  center_2019_04_02_19_25_35_092.jpg  left_2019_04_02_19_25_35_092.jpg   \n2  center_2019_04_02_19_25_35_164.jpg  left_2019_04_02_19_25_35_164.jpg   \n3  center_2019_04_02_19_25_35_232.jpg  left_2019_04_02_19_25_35_232.jpg   \n4  center_2019_04_02_19_25_35_303.jpg  left_2019_04_02_19_25_35_303.jpg   \n\n                               right  steering_angle  folder  \n0  right_2019_04_02_19_25_35_023.jpg            0.00  good 1  \n1  right_2019_04_02_19_25_35_092.jpg           -0.15  good 1  \n2  right_2019_04_02_19_25_35_164.jpg            0.00  good 1  \n3  right_2019_04_02_19_25_35_232.jpg            0.00  good 1  \n4  right_2019_04_02_19_25_35_303.jpg            0.00  good 1  ",
      "text/html": "<div>\n<style scoped>\n    .dataframe tbody tr th:only-of-type {\n        vertical-align: middle;\n    }\n\n    .dataframe tbody tr th {\n        vertical-align: top;\n    }\n\n    .dataframe thead th {\n        text-align: right;\n    }\n</style>\n<table border=\"1\" class=\"dataframe\">\n  <thead>\n    <tr style=\"text-align: right;\">\n      <th></th>\n      <th>center</th>\n      <th>left</th>\n      <th>right</th>\n      <th>steering_angle</th>\n      <th>folder</th>\n    </tr>\n  </thead>\n  <tbody>\n    <tr>\n      <th>0</th>\n      <td>center_2019_04_02_19_25_35_023.jpg</td>\n      <td>left_2019_04_02_19_25_35_023.jpg</td>\n      <td>right_2019_04_02_19_25_35_023.jpg</td>\n      <td>0.00</td>\n      <td>good 1</td>\n    </tr>\n    <tr>\n      <th>1</th>\n      <td>center_2019_04_02_19_25_35_092.jpg</td>\n      <td>left_2019_04_02_19_25_35_092.jpg</td>\n      <td>right_2019_04_02_19_25_35_092.jpg</td>\n      <td>-0.15</td>\n      <td>good 1</td>\n    </tr>\n    <tr>\n      <th>2</th>\n      <td>center_2019_04_02_19_25_35_164.jpg</td>\n      <td>left_2019_04_02_19_25_35_164.jpg</td>\n      <td>right_2019_04_02_19_25_35_164.jpg</td>\n      <td>0.00</td>\n      <td>good 1</td>\n    </tr>\n    <tr>\n      <th>3</th>\n      <td>center_2019_04_02_19_25_35_232.jpg</td>\n      <td>left_2019_04_02_19_25_35_232.jpg</td>\n      <td>right_2019_04_02_19_25_35_232.jpg</td>\n      <td>0.00</td>\n      <td>good 1</td>\n    </tr>\n    <tr>\n      <th>4</th>\n      <td>center_2019_04_02_19_25_35_303.jpg</td>\n      <td>left_2019_04_02_19_25_35_303.jpg</td>\n      <td>right_2019_04_02_19_25_35_303.jpg</td>\n      <td>0.00</td>\n      <td>good 1</td>\n    </tr>\n  </tbody>\n</table>\n</div>"
     },
     "execution_count": 28,
     "metadata": {},
     "output_type": "execute_result"
    }
   ],
   "source": [
    "full_set.head()"
   ],
   "metadata": {
    "collapsed": false,
    "pycharm": {
     "name": "#%%\n"
    },
    "ExecuteTime": {
     "end_time": "2023-05-16T16:01:37.646092500Z",
     "start_time": "2023-05-16T16:01:37.623737800Z"
    }
   }
  },
  {
   "cell_type": "code",
   "execution_count": 29,
   "outputs": [
    {
     "data": {
      "text/plain": "center            center_2019_04_02_19_25_35_092.jpg\nleft                left_2019_04_02_19_25_35_092.jpg\nright              right_2019_04_02_19_25_35_092.jpg\nsteering_angle                                 -0.15\nfolder                                        good 1\nName: 1, dtype: object"
     },
     "execution_count": 29,
     "metadata": {},
     "output_type": "execute_result"
    }
   ],
   "source": [
    "full_set.iloc[1]"
   ],
   "metadata": {
    "collapsed": false,
    "pycharm": {
     "name": "#%%\n"
    },
    "ExecuteTime": {
     "end_time": "2023-05-16T16:01:37.667131300Z",
     "start_time": "2023-05-16T16:01:37.638267100Z"
    }
   }
  },
  {
   "cell_type": "code",
   "execution_count": 30,
   "outputs": [
    {
     "data": {
      "text/plain": "'good 1'"
     },
     "execution_count": 30,
     "metadata": {},
     "output_type": "execute_result"
    }
   ],
   "source": [
    "full_set.iloc[1]['folder']"
   ],
   "metadata": {
    "collapsed": false,
    "pycharm": {
     "name": "#%%\n"
    },
    "ExecuteTime": {
     "end_time": "2023-05-16T16:01:37.678658500Z",
     "start_time": "2023-05-16T16:01:37.656617700Z"
    }
   }
  },
  {
   "cell_type": "code",
   "execution_count": 31,
   "outputs": [
    {
     "data": {
      "text/plain": "-0.15"
     },
     "execution_count": 31,
     "metadata": {},
     "output_type": "execute_result"
    }
   ],
   "source": [
    "full_set['steering_angle'][1]"
   ],
   "metadata": {
    "collapsed": false,
    "pycharm": {
     "name": "#%%\n"
    },
    "ExecuteTime": {
     "end_time": "2023-05-16T16:01:37.710773200Z",
     "start_time": "2023-05-16T16:01:37.671652900Z"
    }
   }
  },
  {
   "cell_type": "markdown",
   "source": [
    "# Balance the Dataset"
   ],
   "metadata": {
    "collapsed": false,
    "pycharm": {
     "name": "#%% md\n"
    }
   }
  },
  {
   "cell_type": "code",
   "execution_count": 32,
   "outputs": [],
   "source": [
    "num_bins = 21\n",
    "samples_per_bin = 2350"
   ],
   "metadata": {
    "collapsed": false,
    "pycharm": {
     "name": "#%%\n"
    },
    "ExecuteTime": {
     "end_time": "2023-05-16T16:01:37.758630500Z",
     "start_time": "2023-05-16T16:01:37.684179700Z"
    }
   }
  },
  {
   "cell_type": "code",
   "execution_count": 33,
   "outputs": [],
   "source": [
    "def show_steering_angles(full_set, hist, bins, samples_per_bin):\n",
    "    center = (bins[:-1] + bins[1:]) * 0.5\n",
    "    plt.bar(center, hist, width=0.05)\n",
    "    plt.plot(\n",
    "        (np.min(full_set['steering_angle']), np.max(full_set['steering_angle'])),\n",
    "        (samples_per_bin, samples_per_bin)\n",
    "    )"
   ],
   "metadata": {
    "collapsed": false,
    "pycharm": {
     "name": "#%%\n"
    },
    "ExecuteTime": {
     "end_time": "2023-05-16T16:01:37.783178600Z",
     "start_time": "2023-05-16T16:01:37.702261800Z"
    }
   }
  },
  {
   "cell_type": "code",
   "execution_count": 34,
   "outputs": [
    {
     "data": {
      "text/plain": "<Figure size 640x480 with 1 Axes>",
      "image/png": "[encoded data removed]"
     },
     "metadata": {},
     "output_type": "display_data"
    }
   ],
   "source": [
    "hist, bins = np.histogram(full_set['steering_angle'], num_bins)\n",
    "show_steering_angles(full_set, hist, bins, samples_per_bin)"
   ],
   "metadata": {
    "collapsed": false,
    "pycharm": {
     "name": "#%%\n"
    },
    "ExecuteTime": {
     "end_time": "2023-05-16T16:01:37.835336800Z",
     "start_time": "2023-05-16T16:01:37.716778400Z"
    }
   }
  },
  {
   "cell_type": "code",
   "execution_count": 35,
   "outputs": [
    {
     "name": "stdout",
     "output_type": "stream",
     "text": [
      "total data: 41000\n",
      "removed: 26154\n",
      "remaining: 14846\n"
     ]
    }
   ],
   "source": [
    "print('total data:', len(full_set))\n",
    "remove_list = []\n",
    "\n",
    "for j in range(num_bins):\n",
    "  list_ = []\n",
    "  for i in range(len(full_set['steering_angle'])):\n",
    "    if bins[j] <= full_set['steering_angle'][i] <= bins[j + 1]:\n",
    "      list_.append(i)\n",
    "\n",
    "  random.shuffle(list_)\n",
    "  list_ = list_[samples_per_bin:]\n",
    "  remove_list.extend(list_)\n",
    "\n",
    "print('removed:', len(remove_list))\n",
    "full_set.drop(full_set.index[remove_list], inplace=True)\n",
    "print('remaining:', len(full_set))"
   ],
   "metadata": {
    "collapsed": false,
    "pycharm": {
     "name": "#%%\n"
    },
    "ExecuteTime": {
     "end_time": "2023-05-16T16:01:43.970233300Z",
     "start_time": "2023-05-16T16:01:40.000090600Z"
    }
   }
  },
  {
   "cell_type": "code",
   "execution_count": 36,
   "outputs": [
    {
     "data": {
      "text/plain": "<Figure size 640x480 with 1 Axes>",
      "image/png": "[encoded data removed]"
     },
     "metadata": {},
     "output_type": "display_data"
    }
   ],
   "source": [
    "hist, bins = np.histogram(full_set['steering_angle'], num_bins)\n",
    "show_steering_angles(full_set, hist, bins, samples_per_bin)"
   ],
   "metadata": {
    "collapsed": false,
    "pycharm": {
     "name": "#%%\n"
    },
    "ExecuteTime": {
     "end_time": "2023-05-16T16:01:46.105738300Z",
     "start_time": "2023-05-16T16:01:45.992152500Z"
    }
   }
  },
  {
   "cell_type": "markdown",
   "source": [
    "# Split the CSV"
   ],
   "metadata": {
    "collapsed": false,
    "pycharm": {
     "name": "#%% md\n"
    }
   }
  },
  {
   "cell_type": "code",
   "execution_count": 37,
   "outputs": [],
   "source": [
    "from sklearn.model_selection import train_test_split\n",
    "X_train, X_test = train_test_split(full_set, train_size=0.9, shuffle=True)"
   ],
   "metadata": {
    "collapsed": false,
    "pycharm": {
     "name": "#%%\n"
    },
    "ExecuteTime": {
     "end_time": "2023-05-16T16:01:53.472606900Z",
     "start_time": "2023-05-16T16:01:52.607678600Z"
    }
   }
  },
  {
   "cell_type": "code",
   "execution_count": 38,
   "outputs": [
    {
     "data": {
      "text/plain": "(14846, 13361, 1485)"
     },
     "execution_count": 38,
     "metadata": {},
     "output_type": "execute_result"
    }
   ],
   "source": [
    "len(full_set), len(X_train), len(X_test)"
   ],
   "metadata": {
    "collapsed": false,
    "pycharm": {
     "name": "#%%\n"
    },
    "ExecuteTime": {
     "end_time": "2023-05-16T16:01:54.156224300Z",
     "start_time": "2023-05-16T16:01:54.134196100Z"
    }
   }
  },
  {
   "cell_type": "code",
   "execution_count": 39,
   "outputs": [
    {
     "data": {
      "text/plain": "<Figure size 640x480 with 1 Axes>",
      "image/png": "[encoded data removed]"
     },
     "metadata": {},
     "output_type": "display_data"
    }
   ],
   "source": [
    "show_steering_angles(X_train, hist, bins, samples_per_bin)"
   ],
   "metadata": {
    "collapsed": false,
    "pycharm": {
     "name": "#%%\n"
    },
    "ExecuteTime": {
     "end_time": "2023-05-16T16:01:55.578321400Z",
     "start_time": "2023-05-16T16:01:55.471033100Z"
    }
   }
  },
  {
   "cell_type": "code",
   "execution_count": 40,
   "outputs": [
    {
     "data": {
      "text/plain": "<Figure size 640x480 with 1 Axes>",
      "image/png": "[encoded data removed]"
     },
     "metadata": {},
     "output_type": "display_data"
    }
   ],
   "source": [
    "show_steering_angles(X_test, hist, bins, samples_per_bin)"
   ],
   "metadata": {
    "collapsed": false,
    "pycharm": {
     "name": "#%%\n"
    },
    "ExecuteTime": {
     "end_time": "2023-05-16T16:01:59.322781600Z",
     "start_time": "2023-05-16T16:01:59.217052200Z"
    }
   }
  },
  {
   "cell_type": "code",
   "execution_count": 41,
   "outputs": [
    {
     "data": {
      "text/plain": "                                   center                              left  \\\n15330  center_2023_05_10_12_05_00_633.jpg  left_2023_05_10_12_05_00_633.jpg   \n685    center_2019_04_02_19_26_24_255.jpg  left_2019_04_02_19_26_24_255.jpg   \n34174  center_2023_05_10_18_39_19_905.jpg  left_2023_05_10_18_39_19_905.jpg   \n37856  center_2023_05_10_18_46_22_546.jpg  left_2023_05_10_18_46_22_546.jpg   \n24765  center_2023_04_28_21_08_18_431.jpg  left_2023_04_28_21_08_18_431.jpg   \n\n                                   right  steering_angle             folder  \n15330  right_2023_05_10_12_05_00_633.jpg       -0.254207   track 1 normal 3  \n685    right_2019_04_02_19_26_24_255.jpg        0.000000             good 1  \n34174  right_2023_05_10_18_39_19_905.jpg        0.281031  track 1 reverse 3  \n37856  right_2023_05_10_18_46_22_546.jpg        0.209534  track 1 reverse 3  \n24765  right_2023_04_28_21_08_18_431.jpg        0.000000    track 1 reverse  ",
      "text/html": "<div>\n<style scoped>\n    .dataframe tbody tr th:only-of-type {\n        vertical-align: middle;\n    }\n\n    .dataframe tbody tr th {\n        vertical-align: top;\n    }\n\n    .dataframe thead th {\n        text-align: right;\n    }\n</style>\n<table border=\"1\" class=\"dataframe\">\n  <thead>\n    <tr style=\"text-align: right;\">\n      <th></th>\n      <th>center</th>\n      <th>left</th>\n      <th>right</th>\n      <th>steering_angle</th>\n      <th>folder</th>\n    </tr>\n  </thead>\n  <tbody>\n    <tr>\n      <th>15330</th>\n      <td>center_2023_05_10_12_05_00_633.jpg</td>\n      <td>left_2023_05_10_12_05_00_633.jpg</td>\n      <td>right_2023_05_10_12_05_00_633.jpg</td>\n      <td>-0.254207</td>\n      <td>track 1 normal 3</td>\n    </tr>\n    <tr>\n      <th>685</th>\n      <td>center_2019_04_02_19_26_24_255.jpg</td>\n      <td>left_2019_04_02_19_26_24_255.jpg</td>\n      <td>right_2019_04_02_19_26_24_255.jpg</td>\n      <td>0.000000</td>\n      <td>good 1</td>\n    </tr>\n    <tr>\n      <th>34174</th>\n      <td>center_2023_05_10_18_39_19_905.jpg</td>\n      <td>left_2023_05_10_18_39_19_905.jpg</td>\n      <td>right_2023_05_10_18_39_19_905.jpg</td>\n      <td>0.281031</td>\n      <td>track 1 reverse 3</td>\n    </tr>\n    <tr>\n      <th>37856</th>\n      <td>center_2023_05_10_18_46_22_546.jpg</td>\n      <td>left_2023_05_10_18_46_22_546.jpg</td>\n      <td>right_2023_05_10_18_46_22_546.jpg</td>\n      <td>0.209534</td>\n      <td>track 1 reverse 3</td>\n    </tr>\n    <tr>\n      <th>24765</th>\n      <td>center_2023_04_28_21_08_18_431.jpg</td>\n      <td>left_2023_04_28_21_08_18_431.jpg</td>\n      <td>right_2023_04_28_21_08_18_431.jpg</td>\n      <td>0.000000</td>\n      <td>track 1 reverse</td>\n    </tr>\n  </tbody>\n</table>\n</div>"
     },
     "execution_count": 41,
     "metadata": {},
     "output_type": "execute_result"
    }
   ],
   "source": [
    "X_train.head()"
   ],
   "metadata": {
    "collapsed": false,
    "pycharm": {
     "name": "#%%\n"
    },
    "ExecuteTime": {
     "end_time": "2023-05-16T16:02:10.939469800Z",
     "start_time": "2023-05-16T16:02:10.917391500Z"
    }
   }
  },
  {
   "cell_type": "markdown",
   "source": [
    "# Preprocess Images"
   ],
   "metadata": {
    "collapsed": false,
    "pycharm": {
     "name": "#%% md\n"
    }
   }
  },
  {
   "cell_type": "code",
   "execution_count": 49,
   "outputs": [],
   "source": [
    "import shutil\n",
    "\n",
    "def clear_folder(folder):\n",
    "    for files in os.listdir(folder):\n",
    "        path = os.path.join(folder, files)\n",
    "        try:\n",
    "            shutil.rmtree(path)\n",
    "        except OSError:\n",
    "            os.remove(path)\n"
   ],
   "metadata": {
    "collapsed": false,
    "pycharm": {
     "name": "#%%\n"
    },
    "ExecuteTime": {
     "end_time": "2023-05-16T16:06:57.288873500Z",
     "start_time": "2023-05-16T16:06:57.262127600Z"
    }
   }
  },
  {
   "cell_type": "code",
   "execution_count": 55,
   "outputs": [],
   "source": [
    "from torchvision.io import read_image\n",
    "from PIL import Image\n",
    "\n",
    "PREPROCESSED_FOLDER = '.\\\\data\\\\preprocessed\\\\'\n",
    "\n",
    "def preprocess_and_store_images(df, stage):\n",
    "    if not os.path.isdir(PREPROCESSED_FOLDER):\n",
    "        os.mkdir(PREPROCESSED_FOLDER)\n",
    "\n",
    "    if not os.path.isdir(PREPROCESSED_FOLDER + stage):\n",
    "        os.mkdir(PREPROCESSED_FOLDER + stage)\n",
    "    else:\n",
    "        clear_folder(PREPROCESSED_FOLDER + stage)\n",
    "\n",
    "    for index, row in df.iterrows():\n",
    "        folder = row['folder']\n",
    "\n",
    "        for image_name in ['center']: #  ['center', 'left', 'right']:\n",
    "            image_name = row[image_name]\n",
    "            raw_path = '.\\\\data\\\\raw\\\\' + folder + '\\\\IMG\\\\' + image_name\n",
    "\n",
    "            if not os.path.exists(raw_path):\n",
    "                continue\n",
    "\n",
    "            image = read_image(raw_path)\n",
    "            image = preprocess(image)\n",
    "\n",
    "            path = '{}\\\\{}\\\\{}'.format(PREPROCESSED_FOLDER, stage, image_name)\n",
    "            Image.fromarray(image.numpy().transpose(1, 2, 0)).save(path)"
   ],
   "metadata": {
    "collapsed": false,
    "pycharm": {
     "name": "#%%\n"
    },
    "ExecuteTime": {
     "end_time": "2023-05-16T16:14:05.777184200Z",
     "start_time": "2023-05-16T16:14:05.763641900Z"
    }
   }
  },
  {
   "cell_type": "code",
   "execution_count": 56,
   "outputs": [],
   "source": [
    "preprocess_and_store_images(X_train, 'train')\n",
    "preprocess_and_store_images(X_test, 'test')"
   ],
   "metadata": {
    "collapsed": false,
    "pycharm": {
     "name": "#%%\n"
    },
    "ExecuteTime": {
     "end_time": "2023-05-16T16:14:47.527012700Z",
     "start_time": "2023-05-16T16:14:09.912725600Z"
    }
   }
  },
  {
   "cell_type": "code",
   "execution_count": 57,
   "outputs": [
    {
     "data": {
      "text/plain": "(13361, 40083, 13361)"
     },
     "execution_count": 57,
     "metadata": {},
     "output_type": "execute_result"
    }
   ],
   "source": [
    "# compare left, center, right images count\n",
    "len(X_train), len(X_train) * 3, len(os.listdir('.\\\\data\\\\preprocessed\\\\train'))"
   ],
   "metadata": {
    "collapsed": false,
    "ExecuteTime": {
     "end_time": "2023-05-16T16:15:33.678335600Z",
     "start_time": "2023-05-16T16:15:33.642572200Z"
    }
   }
  },
  {
   "cell_type": "code",
   "execution_count": 58,
   "outputs": [
    {
     "data": {
      "text/plain": "(1485, 4455, 1485)"
     },
     "execution_count": 58,
     "metadata": {},
     "output_type": "execute_result"
    }
   ],
   "source": [
    "len(X_test), len(X_test) * 3, len(os.listdir('.\\\\data\\\\preprocessed\\\\test'))"
   ],
   "metadata": {
    "collapsed": false,
    "ExecuteTime": {
     "end_time": "2023-05-16T16:15:40.249649300Z",
     "start_time": "2023-05-16T16:15:40.228911100Z"
    }
   }
  },
  {
   "cell_type": "markdown",
   "source": [
    "# Save CSV"
   ],
   "metadata": {
    "collapsed": false,
    "pycharm": {
     "name": "#%% md\n"
    }
   }
  },
  {
   "cell_type": "code",
   "execution_count": 59,
   "outputs": [],
   "source": [
    "X_train.to_csv(\n",
    "    '.\\\\data\\\\preprocessed\\\\driving_train_log.csv',\n",
    "    index=False,\n",
    "    columns=['center', 'left', 'right', 'steering_angle']\n",
    ")\n",
    "\n",
    "X_test.to_csv(\n",
    "    '.\\\\data\\\\preprocessed\\\\driving_test_log.csv',\n",
    "    index=False,\n",
    "    columns=['center', 'left', 'right', 'steering_angle']\n",
    ")"
   ],
   "metadata": {
    "collapsed": false,
    "pycharm": {
     "name": "#%%\n"
    },
    "ExecuteTime": {
     "end_time": "2023-05-16T16:15:42.636069200Z",
     "start_time": "2023-05-16T16:15:42.558773700Z"
    }
   }
  }
 ],
 "metadata": {
  "kernelspec": {
   "display_name": "Python 3",
   "language": "python",
   "name": "python3"
  },
  "language_info": {
   "codemirror_mode": {
    "name": "ipython",
    "version": 2
   },
   "file_extension": ".py",
   "mimetype": "text/x-python",
   "name": "python",
   "nbconvert_exporter": "python",
   "pygments_lexer": "ipython2",
   "version": "2.7.6"
  }
 },
 "nbformat": 4,
 "nbformat_minor": 0
}
